{
 "cells": [
  {
   "cell_type": "code",
   "execution_count": 1,
   "metadata": {},
   "outputs": [],
   "source": [
    "import pandas as pd\n",
    "import numpy as np\n",
    "import intake"
   ]
  },
  {
   "cell_type": "code",
   "execution_count": 2,
   "metadata": {},
   "outputs": [],
   "source": [
    "cat = intake.open_catalog('../catalogs/catalog.yml')\n",
    "measures = cat.measures.read().set_index('cdtfa_id')"
   ]
  },
  {
   "cell_type": "code",
   "execution_count": 3,
   "metadata": {},
   "outputs": [],
   "source": [
    "# if this file can't be found, run notebook 1 to generate\n",
    "measures_joined = pd.read_parquet('../data/interim/measures_cdtfa_joined.parquet')"
   ]
  },
  {
   "cell_type": "code",
   "execution_count": 4,
   "metadata": {},
   "outputs": [],
   "source": [
    "sco_url = 'https://bythenumbers.sco.ca.gov/download/6dj3-r4jw/application%2Fvnd.openxmlformats-officedocument.spreadsheetml.sheet'"
   ]
  },
  {
   "cell_type": "code",
   "execution_count": 5,
   "metadata": {},
   "outputs": [],
   "source": [
    "sco_entities = pd.read_excel(sco_url, sheet_name='ENTITIES')"
   ]
  },
  {
   "cell_type": "code",
   "execution_count": 6,
   "metadata": {},
   "outputs": [],
   "source": [
    "sco_rev_exp = pd.read_excel(sco_url, sheet_name='TO_REV_EXP')\n",
    "sco_rev_exp = sco_rev_exp[sco_rev_exp['Fiscal Year'] == 2019]"
   ]
  },
  {
   "cell_type": "code",
   "execution_count": 7,
   "metadata": {},
   "outputs": [],
   "source": [
    "lost_transit_funding_2019 = measures_joined[['Calendar Year', 'Quarter', 'Net Amount','county_name', 'county_fips', 'total_pct_transit', 'pct_transit_ops']]"
   ]
  },
  {
   "cell_type": "code",
   "execution_count": 8,
   "metadata": {},
   "outputs": [
    {
     "name": "stderr",
     "output_type": "stream",
     "text": [
      "<ipython-input-8-8c5d669f1ea1>:1: SettingWithCopyWarning: \n",
      "A value is trying to be set on a copy of a slice from a DataFrame.\n",
      "Try using .loc[row_indexer,col_indexer] = value instead\n",
      "\n",
      "See the caveats in the documentation: https://pandas.pydata.org/pandas-docs/stable/user_guide/indexing.html#returning-a-view-versus-a-copy\n",
      "  lost_transit_funding_2019['county_name'] = lost_transit_funding_2019['county_name'].replace('Monterey-Salinas Transit District', 'Monterey')\n"
     ]
    }
   ],
   "source": [
    "lost_transit_funding_2019['county_name'] = lost_transit_funding_2019['county_name'].replace('Monterey-Salinas Transit District', 'Monterey')"
   ]
  },
  {
   "cell_type": "code",
   "execution_count": 9,
   "metadata": {},
   "outputs": [
    {
     "name": "stderr",
     "output_type": "stream",
     "text": [
      "<ipython-input-9-6806448d0ebc>:1: SettingWithCopyWarning: \n",
      "A value is trying to be set on a copy of a slice from a DataFrame.\n",
      "Try using .loc[row_indexer,col_indexer] = value instead\n",
      "\n",
      "See the caveats in the documentation: https://pandas.pydata.org/pandas-docs/stable/user_guide/indexing.html#returning-a-view-versus-a-copy\n",
      "  lost_transit_funding_2019['Net Transit Ops'] = lost_transit_funding_2019['Net Amount'] * lost_transit_funding_2019['pct_transit_ops']\n",
      "<ipython-input-9-6806448d0ebc>:2: SettingWithCopyWarning: \n",
      "A value is trying to be set on a copy of a slice from a DataFrame.\n",
      "Try using .loc[row_indexer,col_indexer] = value instead\n",
      "\n",
      "See the caveats in the documentation: https://pandas.pydata.org/pandas-docs/stable/user_guide/indexing.html#returning-a-view-versus-a-copy\n",
      "  lost_transit_funding_2019['Net Transit All'] = lost_transit_funding_2019['Net Amount'] * lost_transit_funding_2019['total_pct_transit']\n"
     ]
    }
   ],
   "source": [
    "lost_transit_funding_2019['Net Transit Ops'] = lost_transit_funding_2019['Net Amount'] * lost_transit_funding_2019['pct_transit_ops']\n",
    "lost_transit_funding_2019['Net Transit All'] = lost_transit_funding_2019['Net Amount'] * lost_transit_funding_2019['total_pct_transit']"
   ]
  },
  {
   "cell_type": "code",
   "execution_count": 10,
   "metadata": {},
   "outputs": [
    {
     "data": {
      "text/plain": [
       "Index(['Passenger Fares_ Actual_Operating Revenues', 'Passenger Fares_ Budget_Operating Revenues'], dtype='object')"
      ]
     },
     "execution_count": 10,
     "metadata": {},
     "output_type": "execute_result"
    }
   ],
   "source": [
    "sco_rev_exp.columns[sco_rev_exp.columns.str.contains('Fares')]"
   ]
  },
  {
   "cell_type": "code",
   "execution_count": 11,
   "metadata": {},
   "outputs": [],
   "source": [
    "county_lost_funding_19 = lost_transit_funding_2019.groupby('county_name').sum()[['Net Transit Ops', 'Net Transit All']]"
   ]
  },
  {
   "cell_type": "code",
   "execution_count": 12,
   "metadata": {},
   "outputs": [],
   "source": [
    "agency_sco_total_19 = sco_rev_exp[['Entity ID', 'Entity Name', 'Total Operating Revenues_ Actual_Operating Revenues',\n",
    "           'Total Operating Expenses_ Actual_Operating Expenses',\n",
    "            'Total Nonoperating Revenues_ Actual_Nonoperating Revenues',\n",
    "            'Total Nonoperating Expenses_ Actual_Nonoperating Expenses',\n",
    "            'Passenger Fares_ Actual_Operating Revenues',\n",
    "            'Local Funds Dedicated to Transit at Their Source_Local Government Funds_ Actual_Nonoperating Revenues']]"
   ]
  },
  {
   "cell_type": "code",
   "execution_count": 13,
   "metadata": {},
   "outputs": [],
   "source": [
    "county_sco_total_19 = (agency_sco_total_19.set_index('Entity ID')\n",
    "                       .join(sco_entities[['Entity ID', 'County Name']].set_index('Entity ID'))\n",
    "                      .groupby('County Name').sum())\n",
    "county_sco_total_19['Total Revenues_Actual'] = (county_sco_total_19['Total Nonoperating Revenues_ Actual_Nonoperating Revenues'] \n",
    "                                                + county_sco_total_19['Total Operating Revenues_ Actual_Operating Revenues'])"
   ]
  },
  {
   "cell_type": "code",
   "execution_count": 14,
   "metadata": {},
   "outputs": [],
   "source": [
    "all_funding_19 = county_lost_funding_19.join(county_sco_total_19)\n",
    "\n",
    "all_funding_19['Fares ratio of total'] = (\n",
    "    all_funding_19['Passenger Fares_ Actual_Operating Revenues']\n",
    "    / all_funding_19['Total Revenues_Actual'])\n",
    "\n",
    "all_funding_19['LOST ratio of total'] = all_funding_19['Net Transit All'] / all_funding_19['Total Revenues_Actual']\n",
    "all_funding_19['LOST operations ratio of total'] = all_funding_19['Net Transit Ops'] / all_funding_19['Total Revenues_Actual']\n",
    "\n",
    "all_funding_19['LOST operations funding ratio of operating expenses'] = (\n",
    "    all_funding_19['Net Transit Ops'] \n",
    "    / all_funding_19['Total Operating Expenses_ Actual_Operating Expenses'] )\n",
    "\n",
    "all_funding_19 = all_funding_19.rename(columns={'Net Transit Ops': 'LOST Transit Ops', 'Net Transit All': 'LOST Transit All'})"
   ]
  },
  {
   "cell_type": "code",
   "execution_count": 15,
   "metadata": {},
   "outputs": [
    {
     "data": {
      "text/html": [
       "<div>\n",
       "<style scoped>\n",
       "    .dataframe tbody tr th:only-of-type {\n",
       "        vertical-align: middle;\n",
       "    }\n",
       "\n",
       "    .dataframe tbody tr th {\n",
       "        vertical-align: top;\n",
       "    }\n",
       "\n",
       "    .dataframe thead th {\n",
       "        text-align: right;\n",
       "    }\n",
       "</style>\n",
       "<table border=\"1\" class=\"dataframe\">\n",
       "  <thead>\n",
       "    <tr style=\"text-align: right;\">\n",
       "      <th></th>\n",
       "      <th>LOST Transit Ops</th>\n",
       "      <th>LOST Transit All</th>\n",
       "      <th>Total Operating Revenues_ Actual_Operating Revenues</th>\n",
       "      <th>Total Operating Expenses_ Actual_Operating Expenses</th>\n",
       "      <th>Total Nonoperating Revenues_ Actual_Nonoperating Revenues</th>\n",
       "      <th>Total Nonoperating Expenses_ Actual_Nonoperating Expenses</th>\n",
       "      <th>Passenger Fares_ Actual_Operating Revenues</th>\n",
       "      <th>Local Funds Dedicated to Transit at Their Source_Local Government Funds_ Actual_Nonoperating Revenues</th>\n",
       "      <th>Total Revenues_Actual</th>\n",
       "      <th>Fares ratio of total</th>\n",
       "      <th>LOST ratio of total</th>\n",
       "      <th>LOST operations ratio of total</th>\n",
       "      <th>LOST operations funding ratio of operating expenses</th>\n",
       "    </tr>\n",
       "    <tr>\n",
       "      <th>county_name</th>\n",
       "      <th></th>\n",
       "      <th></th>\n",
       "      <th></th>\n",
       "      <th></th>\n",
       "      <th></th>\n",
       "      <th></th>\n",
       "      <th></th>\n",
       "      <th></th>\n",
       "      <th></th>\n",
       "      <th></th>\n",
       "      <th></th>\n",
       "      <th></th>\n",
       "      <th></th>\n",
       "    </tr>\n",
       "  </thead>\n",
       "  <tbody>\n",
       "    <tr>\n",
       "      <th>Alameda</th>\n",
       "      <td>1.360473e+07</td>\n",
       "      <td>2.742659e+07</td>\n",
       "      <td>666426629.0</td>\n",
       "      <td>1.551864e+09</td>\n",
       "      <td>9.235469e+08</td>\n",
       "      <td>55038921.0</td>\n",
       "      <td>557671334.0</td>\n",
       "      <td>131037991.0</td>\n",
       "      <td>1.589974e+09</td>\n",
       "      <td>0.350743</td>\n",
       "      <td>0.017250</td>\n",
       "      <td>0.008557</td>\n",
       "      <td>0.008767</td>\n",
       "    </tr>\n",
       "    <tr>\n",
       "      <th>Contra Costa</th>\n",
       "      <td>5.947064e+06</td>\n",
       "      <td>1.034409e+07</td>\n",
       "      <td>10643535.0</td>\n",
       "      <td>8.655780e+07</td>\n",
       "      <td>6.186824e+07</td>\n",
       "      <td>78037.0</td>\n",
       "      <td>7733673.0</td>\n",
       "      <td>10781110.0</td>\n",
       "      <td>7.251178e+07</td>\n",
       "      <td>0.106654</td>\n",
       "      <td>0.142654</td>\n",
       "      <td>0.082015</td>\n",
       "      <td>0.068706</td>\n",
       "    </tr>\n",
       "    <tr>\n",
       "      <th>Fresno</th>\n",
       "      <td>0.000000e+00</td>\n",
       "      <td>8.778743e+06</td>\n",
       "      <td>14228380.0</td>\n",
       "      <td>8.060579e+07</td>\n",
       "      <td>5.271284e+07</td>\n",
       "      <td>72504.0</td>\n",
       "      <td>10483906.0</td>\n",
       "      <td>16060079.0</td>\n",
       "      <td>6.694122e+07</td>\n",
       "      <td>0.156614</td>\n",
       "      <td>0.131141</td>\n",
       "      <td>0.000000</td>\n",
       "      <td>0.000000</td>\n",
       "    </tr>\n",
       "    <tr>\n",
       "      <th>Imperial</th>\n",
       "      <td>0.000000e+00</td>\n",
       "      <td>1.044651e+05</td>\n",
       "      <td>2483135.0</td>\n",
       "      <td>9.737597e+06</td>\n",
       "      <td>7.216353e+06</td>\n",
       "      <td>1424572.0</td>\n",
       "      <td>837757.0</td>\n",
       "      <td>0.0</td>\n",
       "      <td>9.699488e+06</td>\n",
       "      <td>0.086371</td>\n",
       "      <td>0.010770</td>\n",
       "      <td>0.000000</td>\n",
       "      <td>0.000000</td>\n",
       "    </tr>\n",
       "    <tr>\n",
       "      <th>Los Angeles</th>\n",
       "      <td>1.576454e+08</td>\n",
       "      <td>8.672525e+08</td>\n",
       "      <td>686819424.0</td>\n",
       "      <td>3.767198e+09</td>\n",
       "      <td>1.589747e+09</td>\n",
       "      <td>283577741.0</td>\n",
       "      <td>455341357.0</td>\n",
       "      <td>443659070.0</td>\n",
       "      <td>2.276566e+09</td>\n",
       "      <td>0.200012</td>\n",
       "      <td>0.380948</td>\n",
       "      <td>0.069247</td>\n",
       "      <td>0.041847</td>\n",
       "    </tr>\n",
       "    <tr>\n",
       "      <th>Madera</th>\n",
       "      <td>0.000000e+00</td>\n",
       "      <td>7.620175e+04</td>\n",
       "      <td>694261.0</td>\n",
       "      <td>2.864945e+06</td>\n",
       "      <td>4.438425e+06</td>\n",
       "      <td>45579.0</td>\n",
       "      <td>162886.0</td>\n",
       "      <td>0.0</td>\n",
       "      <td>5.132686e+06</td>\n",
       "      <td>0.031735</td>\n",
       "      <td>0.014846</td>\n",
       "      <td>0.000000</td>\n",
       "      <td>0.000000</td>\n",
       "    </tr>\n",
       "    <tr>\n",
       "      <th>Marin</th>\n",
       "      <td>5.003512e+06</td>\n",
       "      <td>5.395944e+06</td>\n",
       "      <td>9137800.0</td>\n",
       "      <td>8.141770e+07</td>\n",
       "      <td>8.122895e+07</td>\n",
       "      <td>6361764.0</td>\n",
       "      <td>7660372.0</td>\n",
       "      <td>55973436.0</td>\n",
       "      <td>9.036675e+07</td>\n",
       "      <td>0.084770</td>\n",
       "      <td>0.059712</td>\n",
       "      <td>0.055369</td>\n",
       "      <td>0.061455</td>\n",
       "    </tr>\n",
       "    <tr>\n",
       "      <th>Merced</th>\n",
       "      <td>3.559832e+05</td>\n",
       "      <td>3.559832e+05</td>\n",
       "      <td>1625544.0</td>\n",
       "      <td>1.684783e+07</td>\n",
       "      <td>1.762549e+07</td>\n",
       "      <td>130510.0</td>\n",
       "      <td>1350591.0</td>\n",
       "      <td>358494.0</td>\n",
       "      <td>1.925103e+07</td>\n",
       "      <td>0.070157</td>\n",
       "      <td>0.018492</td>\n",
       "      <td>0.018492</td>\n",
       "      <td>0.021129</td>\n",
       "    </tr>\n",
       "    <tr>\n",
       "      <th>Monterey</th>\n",
       "      <td>3.567664e+06</td>\n",
       "      <td>3.567664e+06</td>\n",
       "      <td>9146630.0</td>\n",
       "      <td>5.622159e+07</td>\n",
       "      <td>4.384214e+07</td>\n",
       "      <td>985757.0</td>\n",
       "      <td>8715328.0</td>\n",
       "      <td>10365729.0</td>\n",
       "      <td>5.298877e+07</td>\n",
       "      <td>0.164475</td>\n",
       "      <td>0.067329</td>\n",
       "      <td>0.067329</td>\n",
       "      <td>0.063457</td>\n",
       "    </tr>\n",
       "    <tr>\n",
       "      <th>Napa</th>\n",
       "      <td>0.000000e+00</td>\n",
       "      <td>0.000000e+00</td>\n",
       "      <td>1276122.0</td>\n",
       "      <td>1.393757e+07</td>\n",
       "      <td>9.920049e+06</td>\n",
       "      <td>0.0</td>\n",
       "      <td>1196183.0</td>\n",
       "      <td>0.0</td>\n",
       "      <td>1.119617e+07</td>\n",
       "      <td>0.106839</td>\n",
       "      <td>0.000000</td>\n",
       "      <td>0.000000</td>\n",
       "      <td>0.000000</td>\n",
       "    </tr>\n",
       "    <tr>\n",
       "      <th>Orange</th>\n",
       "      <td>5.608829e+06</td>\n",
       "      <td>2.243532e+07</td>\n",
       "      <td>84988400.0</td>\n",
       "      <td>3.310217e+08</td>\n",
       "      <td>3.122699e+08</td>\n",
       "      <td>2678147.0</td>\n",
       "      <td>54880752.0</td>\n",
       "      <td>8434799.0</td>\n",
       "      <td>3.972583e+08</td>\n",
       "      <td>0.138149</td>\n",
       "      <td>0.056475</td>\n",
       "      <td>0.014119</td>\n",
       "      <td>0.016944</td>\n",
       "    </tr>\n",
       "    <tr>\n",
       "      <th>Riverside</th>\n",
       "      <td>1.010320e+07</td>\n",
       "      <td>1.010320e+07</td>\n",
       "      <td>18817183.0</td>\n",
       "      <td>1.597703e+08</td>\n",
       "      <td>1.495921e+08</td>\n",
       "      <td>903916.0</td>\n",
       "      <td>15896317.0</td>\n",
       "      <td>4337828.0</td>\n",
       "      <td>1.684093e+08</td>\n",
       "      <td>0.094391</td>\n",
       "      <td>0.059992</td>\n",
       "      <td>0.059992</td>\n",
       "      <td>0.063236</td>\n",
       "    </tr>\n",
       "    <tr>\n",
       "      <th>Sacramento</th>\n",
       "      <td>0.000000e+00</td>\n",
       "      <td>1.900389e+07</td>\n",
       "      <td>52109270.0</td>\n",
       "      <td>2.640382e+08</td>\n",
       "      <td>1.734547e+08</td>\n",
       "      <td>8233810.0</td>\n",
       "      <td>30748029.0</td>\n",
       "      <td>51894005.0</td>\n",
       "      <td>2.255640e+08</td>\n",
       "      <td>0.136316</td>\n",
       "      <td>0.084251</td>\n",
       "      <td>0.000000</td>\n",
       "      <td>0.000000</td>\n",
       "    </tr>\n",
       "    <tr>\n",
       "      <th>San Benito</th>\n",
       "      <td>0.000000e+00</td>\n",
       "      <td>2.045626e+05</td>\n",
       "      <td>151384.0</td>\n",
       "      <td>2.344068e+06</td>\n",
       "      <td>1.894828e+06</td>\n",
       "      <td>0.0</td>\n",
       "      <td>151384.0</td>\n",
       "      <td>0.0</td>\n",
       "      <td>2.046212e+06</td>\n",
       "      <td>0.073983</td>\n",
       "      <td>0.099971</td>\n",
       "      <td>0.000000</td>\n",
       "      <td>0.000000</td>\n",
       "    </tr>\n",
       "    <tr>\n",
       "      <th>San Bernardino</th>\n",
       "      <td>6.465248e+06</td>\n",
       "      <td>1.034440e+07</td>\n",
       "      <td>19230109.0</td>\n",
       "      <td>1.532054e+08</td>\n",
       "      <td>1.381305e+08</td>\n",
       "      <td>12135395.0</td>\n",
       "      <td>17597325.0</td>\n",
       "      <td>7551711.0</td>\n",
       "      <td>1.573606e+08</td>\n",
       "      <td>0.111828</td>\n",
       "      <td>0.065737</td>\n",
       "      <td>0.041086</td>\n",
       "      <td>0.042200</td>\n",
       "    </tr>\n",
       "    <tr>\n",
       "      <th>San Diego</th>\n",
       "      <td>2.675117e+07</td>\n",
       "      <td>2.675117e+07</td>\n",
       "      <td>112738947.0</td>\n",
       "      <td>5.223451e+08</td>\n",
       "      <td>3.620324e+08</td>\n",
       "      <td>5168307.0</td>\n",
       "      <td>108044496.0</td>\n",
       "      <td>46546105.0</td>\n",
       "      <td>4.747713e+08</td>\n",
       "      <td>0.227572</td>\n",
       "      <td>0.056345</td>\n",
       "      <td>0.056345</td>\n",
       "      <td>0.051214</td>\n",
       "    </tr>\n",
       "    <tr>\n",
       "      <th>San Francisco</th>\n",
       "      <td>0.000000e+00</td>\n",
       "      <td>3.084128e+07</td>\n",
       "      <td>400558364.0</td>\n",
       "      <td>1.318929e+09</td>\n",
       "      <td>3.690974e+08</td>\n",
       "      <td>15817170.0</td>\n",
       "      <td>255399020.0</td>\n",
       "      <td>85897886.0</td>\n",
       "      <td>7.696557e+08</td>\n",
       "      <td>0.331835</td>\n",
       "      <td>0.040072</td>\n",
       "      <td>0.000000</td>\n",
       "      <td>0.000000</td>\n",
       "    </tr>\n",
       "    <tr>\n",
       "      <th>San Joaquin</th>\n",
       "      <td>5.591157e+06</td>\n",
       "      <td>5.908837e+06</td>\n",
       "      <td>14862645.0</td>\n",
       "      <td>1.450071e+08</td>\n",
       "      <td>1.297365e+08</td>\n",
       "      <td>8621451.0</td>\n",
       "      <td>14438234.0</td>\n",
       "      <td>17455359.0</td>\n",
       "      <td>1.445992e+08</td>\n",
       "      <td>0.099850</td>\n",
       "      <td>0.040864</td>\n",
       "      <td>0.038667</td>\n",
       "      <td>0.038558</td>\n",
       "    </tr>\n",
       "    <tr>\n",
       "      <th>San Mateo</th>\n",
       "      <td>9.630359e+06</td>\n",
       "      <td>2.145222e+07</td>\n",
       "      <td>131030862.0</td>\n",
       "      <td>4.031343e+08</td>\n",
       "      <td>3.718030e+08</td>\n",
       "      <td>14168352.0</td>\n",
       "      <td>118234706.0</td>\n",
       "      <td>2656569.0</td>\n",
       "      <td>5.028339e+08</td>\n",
       "      <td>0.235137</td>\n",
       "      <td>0.042663</td>\n",
       "      <td>0.019152</td>\n",
       "      <td>0.023889</td>\n",
       "    </tr>\n",
       "    <tr>\n",
       "      <th>Santa Barbara</th>\n",
       "      <td>0.000000e+00</td>\n",
       "      <td>2.214256e+06</td>\n",
       "      <td>12601884.0</td>\n",
       "      <td>4.692434e+07</td>\n",
       "      <td>3.877539e+07</td>\n",
       "      <td>2079146.0</td>\n",
       "      <td>11299809.0</td>\n",
       "      <td>5997644.0</td>\n",
       "      <td>5.137727e+07</td>\n",
       "      <td>0.219938</td>\n",
       "      <td>0.043098</td>\n",
       "      <td>0.000000</td>\n",
       "      <td>0.000000</td>\n",
       "    </tr>\n",
       "    <tr>\n",
       "      <th>Santa Clara</th>\n",
       "      <td>2.216602e+06</td>\n",
       "      <td>8.207605e+06</td>\n",
       "      <td>43788892.0</td>\n",
       "      <td>5.131382e+08</td>\n",
       "      <td>4.903083e+08</td>\n",
       "      <td>57366000.0</td>\n",
       "      <td>39360892.0</td>\n",
       "      <td>295873613.0</td>\n",
       "      <td>5.340972e+08</td>\n",
       "      <td>0.073696</td>\n",
       "      <td>0.015367</td>\n",
       "      <td>0.004150</td>\n",
       "      <td>0.004320</td>\n",
       "    </tr>\n",
       "    <tr>\n",
       "      <th>Santa Cruz</th>\n",
       "      <td>1.318740e+06</td>\n",
       "      <td>1.846236e+06</td>\n",
       "      <td>10867436.0</td>\n",
       "      <td>6.097398e+07</td>\n",
       "      <td>4.498304e+07</td>\n",
       "      <td>39616.0</td>\n",
       "      <td>10238962.0</td>\n",
       "      <td>23882398.0</td>\n",
       "      <td>5.585048e+07</td>\n",
       "      <td>0.183328</td>\n",
       "      <td>0.033057</td>\n",
       "      <td>0.023612</td>\n",
       "      <td>0.021628</td>\n",
       "    </tr>\n",
       "    <tr>\n",
       "      <th>Sonoma</th>\n",
       "      <td>0.000000e+00</td>\n",
       "      <td>1.534936e+06</td>\n",
       "      <td>3722950.0</td>\n",
       "      <td>4.025900e+07</td>\n",
       "      <td>3.242887e+07</td>\n",
       "      <td>125646.0</td>\n",
       "      <td>3607256.0</td>\n",
       "      <td>1047295.0</td>\n",
       "      <td>3.615182e+07</td>\n",
       "      <td>0.099781</td>\n",
       "      <td>0.042458</td>\n",
       "      <td>0.000000</td>\n",
       "      <td>0.000000</td>\n",
       "    </tr>\n",
       "    <tr>\n",
       "      <th>Sonoma/Marin</th>\n",
       "      <td>0.000000e+00</td>\n",
       "      <td>0.000000e+00</td>\n",
       "      <td>NaN</td>\n",
       "      <td>NaN</td>\n",
       "      <td>NaN</td>\n",
       "      <td>NaN</td>\n",
       "      <td>NaN</td>\n",
       "      <td>NaN</td>\n",
       "      <td>NaN</td>\n",
       "      <td>NaN</td>\n",
       "      <td>NaN</td>\n",
       "      <td>NaN</td>\n",
       "      <td>NaN</td>\n",
       "    </tr>\n",
       "    <tr>\n",
       "      <th>Stanislaus</th>\n",
       "      <td>0.000000e+00</td>\n",
       "      <td>1.090845e+06</td>\n",
       "      <td>3735238.0</td>\n",
       "      <td>3.283276e+07</td>\n",
       "      <td>4.060240e+07</td>\n",
       "      <td>3455144.0</td>\n",
       "      <td>3505249.0</td>\n",
       "      <td>270711.0</td>\n",
       "      <td>4.433764e+07</td>\n",
       "      <td>0.079058</td>\n",
       "      <td>0.024603</td>\n",
       "      <td>0.000000</td>\n",
       "      <td>0.000000</td>\n",
       "    </tr>\n",
       "    <tr>\n",
       "      <th>Tulare</th>\n",
       "      <td>0.000000e+00</td>\n",
       "      <td>7.203900e+05</td>\n",
       "      <td>5478218.0</td>\n",
       "      <td>3.022342e+07</td>\n",
       "      <td>3.555952e+07</td>\n",
       "      <td>4554185.0</td>\n",
       "      <td>3708365.0</td>\n",
       "      <td>1771302.0</td>\n",
       "      <td>4.103774e+07</td>\n",
       "      <td>0.090365</td>\n",
       "      <td>0.017554</td>\n",
       "      <td>0.000000</td>\n",
       "      <td>0.000000</td>\n",
       "    </tr>\n",
       "  </tbody>\n",
       "</table>\n",
       "</div>"
      ],
      "text/plain": [
       "                LOST Transit Ops  LOST Transit All  \\\n",
       "county_name                                          \n",
       "Alameda             1.360473e+07      2.742659e+07   \n",
       "Contra Costa        5.947064e+06      1.034409e+07   \n",
       "Fresno              0.000000e+00      8.778743e+06   \n",
       "Imperial            0.000000e+00      1.044651e+05   \n",
       "Los Angeles         1.576454e+08      8.672525e+08   \n",
       "Madera              0.000000e+00      7.620175e+04   \n",
       "Marin               5.003512e+06      5.395944e+06   \n",
       "Merced              3.559832e+05      3.559832e+05   \n",
       "Monterey            3.567664e+06      3.567664e+06   \n",
       "Napa                0.000000e+00      0.000000e+00   \n",
       "Orange              5.608829e+06      2.243532e+07   \n",
       "Riverside           1.010320e+07      1.010320e+07   \n",
       "Sacramento          0.000000e+00      1.900389e+07   \n",
       "San Benito          0.000000e+00      2.045626e+05   \n",
       "San Bernardino      6.465248e+06      1.034440e+07   \n",
       "San Diego           2.675117e+07      2.675117e+07   \n",
       "San Francisco       0.000000e+00      3.084128e+07   \n",
       "San Joaquin         5.591157e+06      5.908837e+06   \n",
       "San Mateo           9.630359e+06      2.145222e+07   \n",
       "Santa Barbara       0.000000e+00      2.214256e+06   \n",
       "Santa Clara         2.216602e+06      8.207605e+06   \n",
       "Santa Cruz          1.318740e+06      1.846236e+06   \n",
       "Sonoma              0.000000e+00      1.534936e+06   \n",
       "Sonoma/Marin        0.000000e+00      0.000000e+00   \n",
       "Stanislaus          0.000000e+00      1.090845e+06   \n",
       "Tulare              0.000000e+00      7.203900e+05   \n",
       "\n",
       "                Total Operating Revenues_ Actual_Operating Revenues  \\\n",
       "county_name                                                           \n",
       "Alameda                                               666426629.0     \n",
       "Contra Costa                                           10643535.0     \n",
       "Fresno                                                 14228380.0     \n",
       "Imperial                                                2483135.0     \n",
       "Los Angeles                                           686819424.0     \n",
       "Madera                                                   694261.0     \n",
       "Marin                                                   9137800.0     \n",
       "Merced                                                  1625544.0     \n",
       "Monterey                                                9146630.0     \n",
       "Napa                                                    1276122.0     \n",
       "Orange                                                 84988400.0     \n",
       "Riverside                                              18817183.0     \n",
       "Sacramento                                             52109270.0     \n",
       "San Benito                                               151384.0     \n",
       "San Bernardino                                         19230109.0     \n",
       "San Diego                                             112738947.0     \n",
       "San Francisco                                         400558364.0     \n",
       "San Joaquin                                            14862645.0     \n",
       "San Mateo                                             131030862.0     \n",
       "Santa Barbara                                          12601884.0     \n",
       "Santa Clara                                            43788892.0     \n",
       "Santa Cruz                                             10867436.0     \n",
       "Sonoma                                                  3722950.0     \n",
       "Sonoma/Marin                                                  NaN     \n",
       "Stanislaus                                              3735238.0     \n",
       "Tulare                                                  5478218.0     \n",
       "\n",
       "                Total Operating Expenses_ Actual_Operating Expenses  \\\n",
       "county_name                                                           \n",
       "Alameda                                              1.551864e+09     \n",
       "Contra Costa                                         8.655780e+07     \n",
       "Fresno                                               8.060579e+07     \n",
       "Imperial                                             9.737597e+06     \n",
       "Los Angeles                                          3.767198e+09     \n",
       "Madera                                               2.864945e+06     \n",
       "Marin                                                8.141770e+07     \n",
       "Merced                                               1.684783e+07     \n",
       "Monterey                                             5.622159e+07     \n",
       "Napa                                                 1.393757e+07     \n",
       "Orange                                               3.310217e+08     \n",
       "Riverside                                            1.597703e+08     \n",
       "Sacramento                                           2.640382e+08     \n",
       "San Benito                                           2.344068e+06     \n",
       "San Bernardino                                       1.532054e+08     \n",
       "San Diego                                            5.223451e+08     \n",
       "San Francisco                                        1.318929e+09     \n",
       "San Joaquin                                          1.450071e+08     \n",
       "San Mateo                                            4.031343e+08     \n",
       "Santa Barbara                                        4.692434e+07     \n",
       "Santa Clara                                          5.131382e+08     \n",
       "Santa Cruz                                           6.097398e+07     \n",
       "Sonoma                                               4.025900e+07     \n",
       "Sonoma/Marin                                                  NaN     \n",
       "Stanislaus                                           3.283276e+07     \n",
       "Tulare                                               3.022342e+07     \n",
       "\n",
       "                Total Nonoperating Revenues_ Actual_Nonoperating Revenues  \\\n",
       "county_name                                                                 \n",
       "Alameda                                              9.235469e+08           \n",
       "Contra Costa                                         6.186824e+07           \n",
       "Fresno                                               5.271284e+07           \n",
       "Imperial                                             7.216353e+06           \n",
       "Los Angeles                                          1.589747e+09           \n",
       "Madera                                               4.438425e+06           \n",
       "Marin                                                8.122895e+07           \n",
       "Merced                                               1.762549e+07           \n",
       "Monterey                                             4.384214e+07           \n",
       "Napa                                                 9.920049e+06           \n",
       "Orange                                               3.122699e+08           \n",
       "Riverside                                            1.495921e+08           \n",
       "Sacramento                                           1.734547e+08           \n",
       "San Benito                                           1.894828e+06           \n",
       "San Bernardino                                       1.381305e+08           \n",
       "San Diego                                            3.620324e+08           \n",
       "San Francisco                                        3.690974e+08           \n",
       "San Joaquin                                          1.297365e+08           \n",
       "San Mateo                                            3.718030e+08           \n",
       "Santa Barbara                                        3.877539e+07           \n",
       "Santa Clara                                          4.903083e+08           \n",
       "Santa Cruz                                           4.498304e+07           \n",
       "Sonoma                                               3.242887e+07           \n",
       "Sonoma/Marin                                                  NaN           \n",
       "Stanislaus                                           4.060240e+07           \n",
       "Tulare                                               3.555952e+07           \n",
       "\n",
       "                Total Nonoperating Expenses_ Actual_Nonoperating Expenses  \\\n",
       "county_name                                                                 \n",
       "Alameda                                                55038921.0           \n",
       "Contra Costa                                              78037.0           \n",
       "Fresno                                                    72504.0           \n",
       "Imperial                                                1424572.0           \n",
       "Los Angeles                                           283577741.0           \n",
       "Madera                                                    45579.0           \n",
       "Marin                                                   6361764.0           \n",
       "Merced                                                   130510.0           \n",
       "Monterey                                                 985757.0           \n",
       "Napa                                                          0.0           \n",
       "Orange                                                  2678147.0           \n",
       "Riverside                                                903916.0           \n",
       "Sacramento                                              8233810.0           \n",
       "San Benito                                                    0.0           \n",
       "San Bernardino                                         12135395.0           \n",
       "San Diego                                               5168307.0           \n",
       "San Francisco                                          15817170.0           \n",
       "San Joaquin                                             8621451.0           \n",
       "San Mateo                                              14168352.0           \n",
       "Santa Barbara                                           2079146.0           \n",
       "Santa Clara                                            57366000.0           \n",
       "Santa Cruz                                                39616.0           \n",
       "Sonoma                                                   125646.0           \n",
       "Sonoma/Marin                                                  NaN           \n",
       "Stanislaus                                              3455144.0           \n",
       "Tulare                                                  4554185.0           \n",
       "\n",
       "                Passenger Fares_ Actual_Operating Revenues  \\\n",
       "county_name                                                  \n",
       "Alameda                                        557671334.0   \n",
       "Contra Costa                                     7733673.0   \n",
       "Fresno                                          10483906.0   \n",
       "Imperial                                          837757.0   \n",
       "Los Angeles                                    455341357.0   \n",
       "Madera                                            162886.0   \n",
       "Marin                                            7660372.0   \n",
       "Merced                                           1350591.0   \n",
       "Monterey                                         8715328.0   \n",
       "Napa                                             1196183.0   \n",
       "Orange                                          54880752.0   \n",
       "Riverside                                       15896317.0   \n",
       "Sacramento                                      30748029.0   \n",
       "San Benito                                        151384.0   \n",
       "San Bernardino                                  17597325.0   \n",
       "San Diego                                      108044496.0   \n",
       "San Francisco                                  255399020.0   \n",
       "San Joaquin                                     14438234.0   \n",
       "San Mateo                                      118234706.0   \n",
       "Santa Barbara                                   11299809.0   \n",
       "Santa Clara                                     39360892.0   \n",
       "Santa Cruz                                      10238962.0   \n",
       "Sonoma                                           3607256.0   \n",
       "Sonoma/Marin                                           NaN   \n",
       "Stanislaus                                       3505249.0   \n",
       "Tulare                                           3708365.0   \n",
       "\n",
       "                Local Funds Dedicated to Transit at Their Source_Local Government Funds_ Actual_Nonoperating Revenues  \\\n",
       "county_name                                                                                                             \n",
       "Alameda                                               131037991.0                                                       \n",
       "Contra Costa                                           10781110.0                                                       \n",
       "Fresno                                                 16060079.0                                                       \n",
       "Imperial                                                      0.0                                                       \n",
       "Los Angeles                                           443659070.0                                                       \n",
       "Madera                                                        0.0                                                       \n",
       "Marin                                                  55973436.0                                                       \n",
       "Merced                                                   358494.0                                                       \n",
       "Monterey                                               10365729.0                                                       \n",
       "Napa                                                          0.0                                                       \n",
       "Orange                                                  8434799.0                                                       \n",
       "Riverside                                               4337828.0                                                       \n",
       "Sacramento                                             51894005.0                                                       \n",
       "San Benito                                                    0.0                                                       \n",
       "San Bernardino                                          7551711.0                                                       \n",
       "San Diego                                              46546105.0                                                       \n",
       "San Francisco                                          85897886.0                                                       \n",
       "San Joaquin                                            17455359.0                                                       \n",
       "San Mateo                                               2656569.0                                                       \n",
       "Santa Barbara                                           5997644.0                                                       \n",
       "Santa Clara                                           295873613.0                                                       \n",
       "Santa Cruz                                             23882398.0                                                       \n",
       "Sonoma                                                  1047295.0                                                       \n",
       "Sonoma/Marin                                                  NaN                                                       \n",
       "Stanislaus                                               270711.0                                                       \n",
       "Tulare                                                  1771302.0                                                       \n",
       "\n",
       "                Total Revenues_Actual  Fares ratio of total  \\\n",
       "county_name                                                   \n",
       "Alameda                  1.589974e+09              0.350743   \n",
       "Contra Costa             7.251178e+07              0.106654   \n",
       "Fresno                   6.694122e+07              0.156614   \n",
       "Imperial                 9.699488e+06              0.086371   \n",
       "Los Angeles              2.276566e+09              0.200012   \n",
       "Madera                   5.132686e+06              0.031735   \n",
       "Marin                    9.036675e+07              0.084770   \n",
       "Merced                   1.925103e+07              0.070157   \n",
       "Monterey                 5.298877e+07              0.164475   \n",
       "Napa                     1.119617e+07              0.106839   \n",
       "Orange                   3.972583e+08              0.138149   \n",
       "Riverside                1.684093e+08              0.094391   \n",
       "Sacramento               2.255640e+08              0.136316   \n",
       "San Benito               2.046212e+06              0.073983   \n",
       "San Bernardino           1.573606e+08              0.111828   \n",
       "San Diego                4.747713e+08              0.227572   \n",
       "San Francisco            7.696557e+08              0.331835   \n",
       "San Joaquin              1.445992e+08              0.099850   \n",
       "San Mateo                5.028339e+08              0.235137   \n",
       "Santa Barbara            5.137727e+07              0.219938   \n",
       "Santa Clara              5.340972e+08              0.073696   \n",
       "Santa Cruz               5.585048e+07              0.183328   \n",
       "Sonoma                   3.615182e+07              0.099781   \n",
       "Sonoma/Marin                      NaN                   NaN   \n",
       "Stanislaus               4.433764e+07              0.079058   \n",
       "Tulare                   4.103774e+07              0.090365   \n",
       "\n",
       "                LOST ratio of total  LOST operations ratio of total  \\\n",
       "county_name                                                           \n",
       "Alameda                    0.017250                        0.008557   \n",
       "Contra Costa               0.142654                        0.082015   \n",
       "Fresno                     0.131141                        0.000000   \n",
       "Imperial                   0.010770                        0.000000   \n",
       "Los Angeles                0.380948                        0.069247   \n",
       "Madera                     0.014846                        0.000000   \n",
       "Marin                      0.059712                        0.055369   \n",
       "Merced                     0.018492                        0.018492   \n",
       "Monterey                   0.067329                        0.067329   \n",
       "Napa                       0.000000                        0.000000   \n",
       "Orange                     0.056475                        0.014119   \n",
       "Riverside                  0.059992                        0.059992   \n",
       "Sacramento                 0.084251                        0.000000   \n",
       "San Benito                 0.099971                        0.000000   \n",
       "San Bernardino             0.065737                        0.041086   \n",
       "San Diego                  0.056345                        0.056345   \n",
       "San Francisco              0.040072                        0.000000   \n",
       "San Joaquin                0.040864                        0.038667   \n",
       "San Mateo                  0.042663                        0.019152   \n",
       "Santa Barbara              0.043098                        0.000000   \n",
       "Santa Clara                0.015367                        0.004150   \n",
       "Santa Cruz                 0.033057                        0.023612   \n",
       "Sonoma                     0.042458                        0.000000   \n",
       "Sonoma/Marin                    NaN                             NaN   \n",
       "Stanislaus                 0.024603                        0.000000   \n",
       "Tulare                     0.017554                        0.000000   \n",
       "\n",
       "                LOST operations funding ratio of operating expenses  \n",
       "county_name                                                          \n",
       "Alameda                                                  0.008767    \n",
       "Contra Costa                                             0.068706    \n",
       "Fresno                                                   0.000000    \n",
       "Imperial                                                 0.000000    \n",
       "Los Angeles                                              0.041847    \n",
       "Madera                                                   0.000000    \n",
       "Marin                                                    0.061455    \n",
       "Merced                                                   0.021129    \n",
       "Monterey                                                 0.063457    \n",
       "Napa                                                     0.000000    \n",
       "Orange                                                   0.016944    \n",
       "Riverside                                                0.063236    \n",
       "Sacramento                                               0.000000    \n",
       "San Benito                                               0.000000    \n",
       "San Bernardino                                           0.042200    \n",
       "San Diego                                                0.051214    \n",
       "San Francisco                                            0.000000    \n",
       "San Joaquin                                              0.038558    \n",
       "San Mateo                                                0.023889    \n",
       "Santa Barbara                                            0.000000    \n",
       "Santa Clara                                              0.004320    \n",
       "Santa Cruz                                               0.021628    \n",
       "Sonoma                                                   0.000000    \n",
       "Sonoma/Marin                                                  NaN    \n",
       "Stanislaus                                               0.000000    \n",
       "Tulare                                                   0.000000    "
      ]
     },
     "execution_count": 15,
     "metadata": {},
     "output_type": "execute_result"
    }
   ],
   "source": [
    "all_funding_19"
   ]
  },
  {
   "cell_type": "code",
   "execution_count": 16,
   "metadata": {},
   "outputs": [
    {
     "data": {
      "text/plain": [
       "county_name\n",
       "Alameda           1.036114e+08\n",
       "Contra Costa      4.370150e+05\n",
       "Fresno            7.281336e+06\n",
       "Imperial         -1.044651e+05\n",
       "Los Angeles      -4.235934e+08\n",
       "Madera           -7.620175e+04\n",
       "Marin             5.057749e+07\n",
       "Merced            2.510790e+03\n",
       "Monterey          6.798065e+06\n",
       "Napa              0.000000e+00\n",
       "Orange           -1.400052e+07\n",
       "Riverside        -5.765372e+06\n",
       "Sacramento        3.289011e+07\n",
       "San Benito       -2.045626e+05\n",
       "San Bernardino   -2.792685e+06\n",
       "San Diego         1.979493e+07\n",
       "San Francisco     5.505661e+07\n",
       "San Joaquin       1.154652e+07\n",
       "San Mateo        -1.879565e+07\n",
       "Santa Barbara     3.783388e+06\n",
       "Santa Clara       2.876660e+08\n",
       "Santa Cruz        2.203616e+07\n",
       "Sonoma           -4.876410e+05\n",
       "Sonoma/Marin               NaN\n",
       "Stanislaus       -8.201339e+05\n",
       "Tulare            1.050912e+06\n",
       "dtype: float64"
      ]
     },
     "execution_count": 16,
     "metadata": {},
     "output_type": "execute_result"
    }
   ],
   "source": [
    "all_funding_19['Local Funds Dedicated to Transit at Their Source_Local Government Funds_ Actual_Nonoperating Revenues'] - all_funding_19['LOST Transit All']"
   ]
  },
  {
   "cell_type": "code",
   "execution_count": 17,
   "metadata": {},
   "outputs": [
    {
     "data": {
      "image/png": "[encoded data removed]",
      "text/plain": [
       "<Figure size 720x432 with 1 Axes>"
      ]
     },
     "metadata": {
      "needs_background": "light"
     },
     "output_type": "display_data"
    }
   ],
   "source": [
    "(all_funding_19.sort_values('LOST Transit All', ascending=False)\n",
    " [['LOST Transit All', 'Local Funds Dedicated to Transit at Their Source_Local Government Funds_ Actual_Nonoperating Revenues']]\n",
    " .plot(kind='bar', width=1, figsize=(10,6)) );"
   ]
  },
  {
   "cell_type": "code",
   "execution_count": 18,
   "metadata": {},
   "outputs": [],
   "source": [
    "import plotly.express as px"
   ]
  },
  {
   "cell_type": "code",
   "execution_count": 32,
   "metadata": {},
   "outputs": [
    {
     "ename": "KeyError",
     "evalue": "'LOST ratio of total'",
     "output_type": "error",
     "traceback": [
      "\u001b[0;31m---------------------------------------------------------------------------\u001b[0m",
      "\u001b[0;31mKeyError\u001b[0m                                  Traceback (most recent call last)",
      "\u001b[0;32m~/anaconda3/envs/pd1/lib/python3.9/site-packages/pandas/core/indexes/base.py\u001b[0m in \u001b[0;36mget_loc\u001b[0;34m(self, key, method, tolerance)\u001b[0m\n\u001b[1;32m   3079\u001b[0m             \u001b[0;32mtry\u001b[0m\u001b[0;34m:\u001b[0m\u001b[0;34m\u001b[0m\u001b[0;34m\u001b[0m\u001b[0m\n\u001b[0;32m-> 3080\u001b[0;31m                 \u001b[0;32mreturn\u001b[0m \u001b[0mself\u001b[0m\u001b[0;34m.\u001b[0m\u001b[0m_engine\u001b[0m\u001b[0;34m.\u001b[0m\u001b[0mget_loc\u001b[0m\u001b[0;34m(\u001b[0m\u001b[0mcasted_key\u001b[0m\u001b[0;34m)\u001b[0m\u001b[0;34m\u001b[0m\u001b[0;34m\u001b[0m\u001b[0m\n\u001b[0m\u001b[1;32m   3081\u001b[0m             \u001b[0;32mexcept\u001b[0m \u001b[0mKeyError\u001b[0m \u001b[0;32mas\u001b[0m \u001b[0merr\u001b[0m\u001b[0;34m:\u001b[0m\u001b[0;34m\u001b[0m\u001b[0;34m\u001b[0m\u001b[0m\n",
      "\u001b[0;32mpandas/_libs/index.pyx\u001b[0m in \u001b[0;36mpandas._libs.index.IndexEngine.get_loc\u001b[0;34m()\u001b[0m\n",
      "\u001b[0;32mpandas/_libs/index.pyx\u001b[0m in \u001b[0;36mpandas._libs.index.IndexEngine.get_loc\u001b[0;34m()\u001b[0m\n",
      "\u001b[0;32mpandas/_libs/hashtable_class_helper.pxi\u001b[0m in \u001b[0;36mpandas._libs.hashtable.PyObjectHashTable.get_item\u001b[0;34m()\u001b[0m\n",
      "\u001b[0;32mpandas/_libs/hashtable_class_helper.pxi\u001b[0m in \u001b[0;36mpandas._libs.hashtable.PyObjectHashTable.get_item\u001b[0;34m()\u001b[0m\n",
      "\u001b[0;31mKeyError\u001b[0m: 'LOST ratio of total'",
      "\nThe above exception was the direct cause of the following exception:\n",
      "\u001b[0;31mKeyError\u001b[0m                                  Traceback (most recent call last)",
      "\u001b[0;32m<ipython-input-32-436ae7bc3d8c>\u001b[0m in \u001b[0;36m<module>\u001b[0;34m\u001b[0m\n\u001b[1;32m      1\u001b[0m \u001b[0mall_funding_19\u001b[0m \u001b[0;34m=\u001b[0m \u001b[0mall_funding_19\u001b[0m\u001b[0;34m.\u001b[0m\u001b[0mdrop\u001b[0m\u001b[0;34m(\u001b[0m\u001b[0;34m'Sonoma/Marin'\u001b[0m\u001b[0;34m)\u001b[0m\u001b[0;34m\u001b[0m\u001b[0;34m\u001b[0m\u001b[0m\n\u001b[0;32m----> 2\u001b[0;31m \u001b[0mall_funding_19\u001b[0m\u001b[0;34m[\u001b[0m\u001b[0;34m'LOST ratio of total'\u001b[0m\u001b[0;34m]\u001b[0m \u001b[0;34m=\u001b[0m \u001b[0mall_funding_19\u001b[0m\u001b[0;34m[\u001b[0m\u001b[0;34m'LOST ratio of total'\u001b[0m\u001b[0;34m]\u001b[0m\u001b[0;34m*\u001b[0m\u001b[0;36m100\u001b[0m\u001b[0;34m\u001b[0m\u001b[0;34m\u001b[0m\u001b[0m\n\u001b[0m\u001b[1;32m      3\u001b[0m \u001b[0mall_funding_19\u001b[0m\u001b[0;34m[\u001b[0m\u001b[0;34m'Fares ratio of total'\u001b[0m\u001b[0;34m]\u001b[0m \u001b[0;34m=\u001b[0m \u001b[0mall_funding_19\u001b[0m\u001b[0;34m[\u001b[0m\u001b[0;34m'Fares ratio of total'\u001b[0m\u001b[0;34m]\u001b[0m\u001b[0;34m*\u001b[0m\u001b[0;36m100\u001b[0m\u001b[0;34m\u001b[0m\u001b[0;34m\u001b[0m\u001b[0m\n\u001b[1;32m      4\u001b[0m all_funding_19 = all_funding_19.rename(columns={'Fares ratio of total': 'Fares percentage of total',\n\u001b[1;32m      5\u001b[0m                                                'LOST ratio of total': 'LOST percentage of total'})\n",
      "\u001b[0;32m~/anaconda3/envs/pd1/lib/python3.9/site-packages/pandas/core/frame.py\u001b[0m in \u001b[0;36m__getitem__\u001b[0;34m(self, key)\u001b[0m\n\u001b[1;32m   3022\u001b[0m             \u001b[0;32mif\u001b[0m \u001b[0mself\u001b[0m\u001b[0;34m.\u001b[0m\u001b[0mcolumns\u001b[0m\u001b[0;34m.\u001b[0m\u001b[0mnlevels\u001b[0m \u001b[0;34m>\u001b[0m \u001b[0;36m1\u001b[0m\u001b[0;34m:\u001b[0m\u001b[0;34m\u001b[0m\u001b[0;34m\u001b[0m\u001b[0m\n\u001b[1;32m   3023\u001b[0m                 \u001b[0;32mreturn\u001b[0m \u001b[0mself\u001b[0m\u001b[0;34m.\u001b[0m\u001b[0m_getitem_multilevel\u001b[0m\u001b[0;34m(\u001b[0m\u001b[0mkey\u001b[0m\u001b[0;34m)\u001b[0m\u001b[0;34m\u001b[0m\u001b[0;34m\u001b[0m\u001b[0m\n\u001b[0;32m-> 3024\u001b[0;31m             \u001b[0mindexer\u001b[0m \u001b[0;34m=\u001b[0m \u001b[0mself\u001b[0m\u001b[0;34m.\u001b[0m\u001b[0mcolumns\u001b[0m\u001b[0;34m.\u001b[0m\u001b[0mget_loc\u001b[0m\u001b[0;34m(\u001b[0m\u001b[0mkey\u001b[0m\u001b[0;34m)\u001b[0m\u001b[0;34m\u001b[0m\u001b[0;34m\u001b[0m\u001b[0m\n\u001b[0m\u001b[1;32m   3025\u001b[0m             \u001b[0;32mif\u001b[0m \u001b[0mis_integer\u001b[0m\u001b[0;34m(\u001b[0m\u001b[0mindexer\u001b[0m\u001b[0;34m)\u001b[0m\u001b[0;34m:\u001b[0m\u001b[0;34m\u001b[0m\u001b[0;34m\u001b[0m\u001b[0m\n\u001b[1;32m   3026\u001b[0m                 \u001b[0mindexer\u001b[0m \u001b[0;34m=\u001b[0m \u001b[0;34m[\u001b[0m\u001b[0mindexer\u001b[0m\u001b[0;34m]\u001b[0m\u001b[0;34m\u001b[0m\u001b[0;34m\u001b[0m\u001b[0m\n",
      "\u001b[0;32m~/anaconda3/envs/pd1/lib/python3.9/site-packages/pandas/core/indexes/base.py\u001b[0m in \u001b[0;36mget_loc\u001b[0;34m(self, key, method, tolerance)\u001b[0m\n\u001b[1;32m   3080\u001b[0m                 \u001b[0;32mreturn\u001b[0m \u001b[0mself\u001b[0m\u001b[0;34m.\u001b[0m\u001b[0m_engine\u001b[0m\u001b[0;34m.\u001b[0m\u001b[0mget_loc\u001b[0m\u001b[0;34m(\u001b[0m\u001b[0mcasted_key\u001b[0m\u001b[0;34m)\u001b[0m\u001b[0;34m\u001b[0m\u001b[0;34m\u001b[0m\u001b[0m\n\u001b[1;32m   3081\u001b[0m             \u001b[0;32mexcept\u001b[0m \u001b[0mKeyError\u001b[0m \u001b[0;32mas\u001b[0m \u001b[0merr\u001b[0m\u001b[0;34m:\u001b[0m\u001b[0;34m\u001b[0m\u001b[0;34m\u001b[0m\u001b[0m\n\u001b[0;32m-> 3082\u001b[0;31m                 \u001b[0;32mraise\u001b[0m \u001b[0mKeyError\u001b[0m\u001b[0;34m(\u001b[0m\u001b[0mkey\u001b[0m\u001b[0;34m)\u001b[0m \u001b[0;32mfrom\u001b[0m \u001b[0merr\u001b[0m\u001b[0;34m\u001b[0m\u001b[0;34m\u001b[0m\u001b[0m\n\u001b[0m\u001b[1;32m   3083\u001b[0m \u001b[0;34m\u001b[0m\u001b[0m\n\u001b[1;32m   3084\u001b[0m         \u001b[0;32mif\u001b[0m \u001b[0mtolerance\u001b[0m \u001b[0;32mis\u001b[0m \u001b[0;32mnot\u001b[0m \u001b[0;32mNone\u001b[0m\u001b[0;34m:\u001b[0m\u001b[0;34m\u001b[0m\u001b[0;34m\u001b[0m\u001b[0m\n",
      "\u001b[0;31mKeyError\u001b[0m: 'LOST ratio of total'"
     ]
    }
   ],
   "source": [
    "all_funding_19['LOST ratio of total'] = all_funding_19['LOST ratio of total']*100\n",
    "all_funding_19['Fares ratio of total'] = all_funding_19['Fares ratio of total']*100\n",
    "all_funding_19 = all_funding_19.rename(columns={'Fares ratio of total': 'Fares percentage of total',\n",
    "                                               'LOST ratio of total': 'LOST percentage of total'})"
   ]
  },
  {
   "cell_type": "code",
   "execution_count": 37,
   "metadata": {},
   "outputs": [],
   "source": [
    "fig = px.bar(all_funding_19.sort_values('LOST percentage of total', ascending=False),\n",
    "             x='County', y=['LOST percentage of total', 'Fares percentage of total'],\n",
    "            labels={'value':'Percentage of Total Transit Funding',\n",
    "                   'variable':''},\n",
    "            title='Comparing LOST Funding to Passenger Fares in each County')"
   ]
  },
  {
   "cell_type": "code",
   "execution_count": 38,
   "metadata": {},
   "outputs": [
    {
     "data": {
      "application/vnd.plotly.v1+json": {
       "config": {
        "plotlyServerURL": "https://plot.ly"
       },
       "data": [
        {
         "alignmentgroup": "True",
         "hovertemplate": "=LOST percentage of total<br>County=%{x}<br>Percentage of Total Transit Funding=%{y}<extra></extra>",
         "legendgroup": "LOST percentage of total",
         "marker": {
          "color": "#636efa"
         },
         "name": "LOST percentage of total",
         "offsetgroup": "LOST percentage of total",
         "orientation": "v",
         "showlegend": true,
         "textposition": "auto",
         "type": "bar",
         "x": [
          "Los Angeles",
          "Contra Costa",
          "Fresno",
          "San Benito",
          "Sacramento",
          "Monterey",
          "San Bernardino",
          "Riverside",
          "Marin",
          "Orange",
          "San Diego",
          "Santa Barbara",
          "San Mateo",
          "Sonoma",
          "San Joaquin",
          "San Francisco",
          "Santa Cruz",
          "Stanislaus",
          "Merced",
          "Tulare",
          "Alameda",
          "Santa Clara",
          "Madera",
          "Imperial",
          "Napa"
         ],
         "xaxis": "x",
         "y": [
          38.09476107185613,
          14.265399309063989,
          13.114108110526528,
          9.997136332892193,
          8.42505677668004,
          6.7328679373548,
          6.57368709590635,
          5.99919521851694,
          5.971160666012193,
          5.647538650417693,
          5.634538597080637,
          4.309797192581629,
          4.266262937661714,
          4.245805703718532,
          4.0863559171906445,
          4.007152098885344,
          3.3056759247190004,
          2.4603136734740136,
          1.8491642941531654,
          1.755432912352559,
          1.72497174380359,
          1.536724857621285,
          1.4846368743383094,
          1.0770166177843612,
          0
         ],
         "yaxis": "y"
        },
        {
         "alignmentgroup": "True",
         "hovertemplate": "=Fares percentage of total<br>County=%{x}<br>Percentage of Total Transit Funding=%{y}<extra></extra>",
         "legendgroup": "Fares percentage of total",
         "marker": {
          "color": "#EF553B"
         },
         "name": "Fares percentage of total",
         "offsetgroup": "Fares percentage of total",
         "orientation": "v",
         "showlegend": true,
         "textposition": "auto",
         "type": "bar",
         "x": [
          "Los Angeles",
          "Contra Costa",
          "Fresno",
          "San Benito",
          "Sacramento",
          "Monterey",
          "San Bernardino",
          "Riverside",
          "Marin",
          "Orange",
          "San Diego",
          "Santa Barbara",
          "San Mateo",
          "Sonoma",
          "San Joaquin",
          "San Francisco",
          "Santa Cruz",
          "Stanislaus",
          "Merced",
          "Tulare",
          "Alameda",
          "Santa Clara",
          "Madera",
          "Imperial",
          "Napa"
         ],
         "xaxis": "x",
         "y": [
          20.00123420082361,
          10.665402228437918,
          15.66136198752891,
          7.3982558991932414,
          13.6316207977852,
          16.447500412776147,
          11.182799231663038,
          9.439099412915281,
          8.476980372671127,
          13.814877936351339,
          22.757165606561212,
          21.993788965794273,
          23.513670044701918,
          9.978076068592841,
          9.985004823921221,
          33.18353999826408,
          18.332809315157185,
          7.905809590430342,
          7.015681029463772,
          9.036474497950557,
          35.07425220675982,
          7.369611916062883,
          3.1735040873336104,
          8.637126000877572,
          10.683857901062783
         ],
         "yaxis": "y"
        }
       ],
       "layout": {
        "autosize": true,
        "barmode": "relative",
        "legend": {
         "title": {
          "text": ""
         },
         "tracegroupgap": 0
        },
        "template": {
         "data": {
          "bar": [
           {
            "error_x": {
             "color": "#2a3f5f"
            },
            "error_y": {
             "color": "#2a3f5f"
            },
            "marker": {
             "line": {
              "color": "#E5ECF6",
              "width": 0.5
             }
            },
            "type": "bar"
           }
          ],
          "barpolar": [
           {
            "marker": {
             "line": {
              "color": "#E5ECF6",
              "width": 0.5
             }
            },
            "type": "barpolar"
           }
          ],
          "carpet": [
           {
            "aaxis": {
             "endlinecolor": "#2a3f5f",
             "gridcolor": "white",
             "linecolor": "white",
             "minorgridcolor": "white",
             "startlinecolor": "#2a3f5f"
            },
            "baxis": {
             "endlinecolor": "#2a3f5f",
             "gridcolor": "white",
             "linecolor": "white",
             "minorgridcolor": "white",
             "startlinecolor": "#2a3f5f"
            },
            "type": "carpet"
           }
          ],
          "choropleth": [
           {
            "colorbar": {
             "outlinewidth": 0,
             "ticks": ""
            },
            "type": "choropleth"
           }
          ],
          "contour": [
           {
            "colorbar": {
             "outlinewidth": 0,
             "ticks": ""
            },
            "colorscale": [
             [
              0,
              "#0d0887"
             ],
             [
              0.1111111111111111,
              "#46039f"
             ],
             [
              0.2222222222222222,
              "#7201a8"
             ],
             [
              0.3333333333333333,
              "#9c179e"
             ],
             [
              0.4444444444444444,
              "#bd3786"
             ],
             [
              0.5555555555555556,
              "#d8576b"
             ],
             [
              0.6666666666666666,
              "#ed7953"
             ],
             [
              0.7777777777777778,
              "#fb9f3a"
             ],
             [
              0.8888888888888888,
              "#fdca26"
             ],
             [
              1,
              "#f0f921"
             ]
            ],
            "type": "contour"
           }
          ],
          "contourcarpet": [
           {
            "colorbar": {
             "outlinewidth": 0,
             "ticks": ""
            },
            "type": "contourcarpet"
           }
          ],
          "heatmap": [
           {
            "colorbar": {
             "outlinewidth": 0,
             "ticks": ""
            },
            "colorscale": [
             [
              0,
              "#0d0887"
             ],
             [
              0.1111111111111111,
              "#46039f"
             ],
             [
              0.2222222222222222,
              "#7201a8"
             ],
             [
              0.3333333333333333,
              "#9c179e"
             ],
             [
              0.4444444444444444,
              "#bd3786"
             ],
             [
              0.5555555555555556,
              "#d8576b"
             ],
             [
              0.6666666666666666,
              "#ed7953"
             ],
             [
              0.7777777777777778,
              "#fb9f3a"
             ],
             [
              0.8888888888888888,
              "#fdca26"
             ],
             [
              1,
              "#f0f921"
             ]
            ],
            "type": "heatmap"
           }
          ],
          "heatmapgl": [
           {
            "colorbar": {
             "outlinewidth": 0,
             "ticks": ""
            },
            "colorscale": [
             [
              0,
              "#0d0887"
             ],
             [
              0.1111111111111111,
              "#46039f"
             ],
             [
              0.2222222222222222,
              "#7201a8"
             ],
             [
              0.3333333333333333,
              "#9c179e"
             ],
             [
              0.4444444444444444,
              "#bd3786"
             ],
             [
              0.5555555555555556,
              "#d8576b"
             ],
             [
              0.6666666666666666,
              "#ed7953"
             ],
             [
              0.7777777777777778,
              "#fb9f3a"
             ],
             [
              0.8888888888888888,
              "#fdca26"
             ],
             [
              1,
              "#f0f921"
             ]
            ],
            "type": "heatmapgl"
           }
          ],
          "histogram": [
           {
            "marker": {
             "colorbar": {
              "outlinewidth": 0,
              "ticks": ""
             }
            },
            "type": "histogram"
           }
          ],
          "histogram2d": [
           {
            "colorbar": {
             "outlinewidth": 0,
             "ticks": ""
            },
            "colorscale": [
             [
              0,
              "#0d0887"
             ],
             [
              0.1111111111111111,
              "#46039f"
             ],
             [
              0.2222222222222222,
              "#7201a8"
             ],
             [
              0.3333333333333333,
              "#9c179e"
             ],
             [
              0.4444444444444444,
              "#bd3786"
             ],
             [
              0.5555555555555556,
              "#d8576b"
             ],
             [
              0.6666666666666666,
              "#ed7953"
             ],
             [
              0.7777777777777778,
              "#fb9f3a"
             ],
             [
              0.8888888888888888,
              "#fdca26"
             ],
             [
              1,
              "#f0f921"
             ]
            ],
            "type": "histogram2d"
           }
          ],
          "histogram2dcontour": [
           {
            "colorbar": {
             "outlinewidth": 0,
             "ticks": ""
            },
            "colorscale": [
             [
              0,
              "#0d0887"
             ],
             [
              0.1111111111111111,
              "#46039f"
             ],
             [
              0.2222222222222222,
              "#7201a8"
             ],
             [
              0.3333333333333333,
              "#9c179e"
             ],
             [
              0.4444444444444444,
              "#bd3786"
             ],
             [
              0.5555555555555556,
              "#d8576b"
             ],
             [
              0.6666666666666666,
              "#ed7953"
             ],
             [
              0.7777777777777778,
              "#fb9f3a"
             ],
             [
              0.8888888888888888,
              "#fdca26"
             ],
             [
              1,
              "#f0f921"
             ]
            ],
            "type": "histogram2dcontour"
           }
          ],
          "mesh3d": [
           {
            "colorbar": {
             "outlinewidth": 0,
             "ticks": ""
            },
            "type": "mesh3d"
           }
          ],
          "parcoords": [
           {
            "line": {
             "colorbar": {
              "outlinewidth": 0,
              "ticks": ""
             }
            },
            "type": "parcoords"
           }
          ],
          "pie": [
           {
            "automargin": true,
            "type": "pie"
           }
          ],
          "scatter": [
           {
            "marker": {
             "colorbar": {
              "outlinewidth": 0,
              "ticks": ""
             }
            },
            "type": "scatter"
           }
          ],
          "scatter3d": [
           {
            "line": {
             "colorbar": {
              "outlinewidth": 0,
              "ticks": ""
             }
            },
            "marker": {
             "colorbar": {
              "outlinewidth": 0,
              "ticks": ""
             }
            },
            "type": "scatter3d"
           }
          ],
          "scattercarpet": [
           {
            "marker": {
             "colorbar": {
              "outlinewidth": 0,
              "ticks": ""
             }
            },
            "type": "scattercarpet"
           }
          ],
          "scattergeo": [
           {
            "marker": {
             "colorbar": {
              "outlinewidth": 0,
              "ticks": ""
             }
            },
            "type": "scattergeo"
           }
          ],
          "scattergl": [
           {
            "marker": {
             "colorbar": {
              "outlinewidth": 0,
              "ticks": ""
             }
            },
            "type": "scattergl"
           }
          ],
          "scattermapbox": [
           {
            "marker": {
             "colorbar": {
              "outlinewidth": 0,
              "ticks": ""
             }
            },
            "type": "scattermapbox"
           }
          ],
          "scatterpolar": [
           {
            "marker": {
             "colorbar": {
              "outlinewidth": 0,
              "ticks": ""
             }
            },
            "type": "scatterpolar"
           }
          ],
          "scatterpolargl": [
           {
            "marker": {
             "colorbar": {
              "outlinewidth": 0,
              "ticks": ""
             }
            },
            "type": "scatterpolargl"
           }
          ],
          "scatterternary": [
           {
            "marker": {
             "colorbar": {
              "outlinewidth": 0,
              "ticks": ""
             }
            },
            "type": "scatterternary"
           }
          ],
          "surface": [
           {
            "colorbar": {
             "outlinewidth": 0,
             "ticks": ""
            },
            "colorscale": [
             [
              0,
              "#0d0887"
             ],
             [
              0.1111111111111111,
              "#46039f"
             ],
             [
              0.2222222222222222,
              "#7201a8"
             ],
             [
              0.3333333333333333,
              "#9c179e"
             ],
             [
              0.4444444444444444,
              "#bd3786"
             ],
             [
              0.5555555555555556,
              "#d8576b"
             ],
             [
              0.6666666666666666,
              "#ed7953"
             ],
             [
              0.7777777777777778,
              "#fb9f3a"
             ],
             [
              0.8888888888888888,
              "#fdca26"
             ],
             [
              1,
              "#f0f921"
             ]
            ],
            "type": "surface"
           }
          ],
          "table": [
           {
            "cells": {
             "fill": {
              "color": "#EBF0F8"
             },
             "line": {
              "color": "white"
             }
            },
            "header": {
             "fill": {
              "color": "#C8D4E3"
             },
             "line": {
              "color": "white"
             }
            },
            "type": "table"
           }
          ]
         },
         "layout": {
          "annotationdefaults": {
           "arrowcolor": "#2a3f5f",
           "arrowhead": 0,
           "arrowwidth": 1
          },
          "autotypenumbers": "strict",
          "coloraxis": {
           "colorbar": {
            "outlinewidth": 0,
            "ticks": ""
           }
          },
          "colorscale": {
           "diverging": [
            [
             0,
             "#8e0152"
            ],
            [
             0.1,
             "#c51b7d"
            ],
            [
             0.2,
             "#de77ae"
            ],
            [
             0.3,
             "#f1b6da"
            ],
            [
             0.4,
             "#fde0ef"
            ],
            [
             0.5,
             "#f7f7f7"
            ],
            [
             0.6,
             "#e6f5d0"
            ],
            [
             0.7,
             "#b8e186"
            ],
            [
             0.8,
             "#7fbc41"
            ],
            [
             0.9,
             "#4d9221"
            ],
            [
             1,
             "#276419"
            ]
           ],
           "sequential": [
            [
             0,
             "#0d0887"
            ],
            [
             0.1111111111111111,
             "#46039f"
            ],
            [
             0.2222222222222222,
             "#7201a8"
            ],
            [
             0.3333333333333333,
             "#9c179e"
            ],
            [
             0.4444444444444444,
             "#bd3786"
            ],
            [
             0.5555555555555556,
             "#d8576b"
            ],
            [
             0.6666666666666666,
             "#ed7953"
            ],
            [
             0.7777777777777778,
             "#fb9f3a"
            ],
            [
             0.8888888888888888,
             "#fdca26"
            ],
            [
             1,
             "#f0f921"
            ]
           ],
           "sequentialminus": [
            [
             0,
             "#0d0887"
            ],
            [
             0.1111111111111111,
             "#46039f"
            ],
            [
             0.2222222222222222,
             "#7201a8"
            ],
            [
             0.3333333333333333,
             "#9c179e"
            ],
            [
             0.4444444444444444,
             "#bd3786"
            ],
            [
             0.5555555555555556,
             "#d8576b"
            ],
            [
             0.6666666666666666,
             "#ed7953"
            ],
            [
             0.7777777777777778,
             "#fb9f3a"
            ],
            [
             0.8888888888888888,
             "#fdca26"
            ],
            [
             1,
             "#f0f921"
            ]
           ]
          },
          "colorway": [
           "#636efa",
           "#EF553B",
           "#00cc96",
           "#ab63fa",
           "#FFA15A",
           "#19d3f3",
           "#FF6692",
           "#B6E880",
           "#FF97FF",
           "#FECB52"
          ],
          "font": {
           "color": "#2a3f5f"
          },
          "geo": {
           "bgcolor": "white",
           "lakecolor": "white",
           "landcolor": "#E5ECF6",
           "showlakes": true,
           "showland": true,
           "subunitcolor": "white"
          },
          "hoverlabel": {
           "align": "left"
          },
          "hovermode": "closest",
          "mapbox": {
           "style": "light"
          },
          "paper_bgcolor": "white",
          "plot_bgcolor": "#E5ECF6",
          "polar": {
           "angularaxis": {
            "gridcolor": "white",
            "linecolor": "white",
            "ticks": ""
           },
           "bgcolor": "#E5ECF6",
           "radialaxis": {
            "gridcolor": "white",
            "linecolor": "white",
            "ticks": ""
           }
          },
          "scene": {
           "xaxis": {
            "backgroundcolor": "#E5ECF6",
            "gridcolor": "white",
            "gridwidth": 2,
            "linecolor": "white",
            "showbackground": true,
            "ticks": "",
            "zerolinecolor": "white"
           },
           "yaxis": {
            "backgroundcolor": "#E5ECF6",
            "gridcolor": "white",
            "gridwidth": 2,
            "linecolor": "white",
            "showbackground": true,
            "ticks": "",
            "zerolinecolor": "white"
           },
           "zaxis": {
            "backgroundcolor": "#E5ECF6",
            "gridcolor": "white",
            "gridwidth": 2,
            "linecolor": "white",
            "showbackground": true,
            "ticks": "",
            "zerolinecolor": "white"
           }
          },
          "shapedefaults": {
           "line": {
            "color": "#2a3f5f"
           }
          },
          "ternary": {
           "aaxis": {
            "gridcolor": "white",
            "linecolor": "white",
            "ticks": ""
           },
           "baxis": {
            "gridcolor": "white",
            "linecolor": "white",
            "ticks": ""
           },
           "bgcolor": "#E5ECF6",
           "caxis": {
            "gridcolor": "white",
            "linecolor": "white",
            "ticks": ""
           }
          },
          "title": {
           "x": 0.05
          },
          "xaxis": {
           "automargin": true,
           "gridcolor": "white",
           "linecolor": "white",
           "ticks": "",
           "title": {
            "standoff": 15
           },
           "zerolinecolor": "white",
           "zerolinewidth": 2
          },
          "yaxis": {
           "automargin": true,
           "gridcolor": "white",
           "linecolor": "white",
           "ticks": "",
           "title": {
            "standoff": 15
           },
           "zerolinecolor": "white",
           "zerolinewidth": 2
          }
         }
        },
        "title": {
         "text": "Comparing LOST Funding to Passenger Fares in each County"
        },
        "xaxis": {
         "anchor": "y",
         "autorange": true,
         "domain": [
          0,
          1
         ],
         "range": [
          -0.5,
          24.5
         ],
         "title": {
          "text": "County"
         },
         "type": "category"
        },
        "yaxis": {
         "anchor": "x",
         "autorange": true,
         "domain": [
          0,
          1
         ],
         "range": [
          0,
          61.153679234399725
         ],
         "title": {
          "text": "Percentage of Total Transit Funding"
         },
         "type": "linear"
        }
       }
      },
      "image/png": "[encoded data removed]",
      "text/html": [
       "<div>                            <div id=\"9163bd3b-68e8-4fc8-b135-6c096cde6d23\" class=\"plotly-graph-div\" style=\"height:525px; width:100%;\"></div>            <script type=\"text/javascript\">                require([\"plotly\"], function(Plotly) {                    window.PLOTLYENV=window.PLOTLYENV || {};                                    if (document.getElementById(\"9163bd3b-68e8-4fc8-b135-6c096cde6d23\")) {                    Plotly.newPlot(                        \"9163bd3b-68e8-4fc8-b135-6c096cde6d23\",                        [{\"alignmentgroup\": \"True\", \"hovertemplate\": \"=LOST percentage of total<br>County=%{x}<br>Percentage of Total Transit Funding=%{y}<extra></extra>\", \"legendgroup\": \"LOST percentage of total\", \"marker\": {\"color\": \"#636efa\"}, \"name\": \"LOST percentage of total\", \"offsetgroup\": \"LOST percentage of total\", \"orientation\": \"v\", \"showlegend\": true, \"textposition\": \"auto\", \"type\": \"bar\", \"x\": [\"Los Angeles\", \"Contra Costa\", \"Fresno\", \"San Benito\", \"Sacramento\", \"Monterey\", \"San Bernardino\", \"Riverside\", \"Marin\", \"Orange\", \"San Diego\", \"Santa Barbara\", \"San Mateo\", \"Sonoma\", \"San Joaquin\", \"San Francisco\", \"Santa Cruz\", \"Stanislaus\", \"Merced\", \"Tulare\", \"Alameda\", \"Santa Clara\", \"Madera\", \"Imperial\", \"Napa\"], \"xaxis\": \"x\", \"y\": [38.09476107185613, 14.265399309063989, 13.114108110526528, 9.997136332892193, 8.42505677668004, 6.7328679373548, 6.57368709590635, 5.99919521851694, 5.971160666012193, 5.647538650417693, 5.634538597080637, 4.309797192581629, 4.266262937661714, 4.245805703718532, 4.0863559171906445, 4.007152098885344, 3.3056759247190004, 2.4603136734740136, 1.8491642941531654, 1.755432912352559, 1.72497174380359, 1.536724857621285, 1.4846368743383094, 1.0770166177843612, 0.0], \"yaxis\": \"y\"}, {\"alignmentgroup\": \"True\", \"hovertemplate\": \"=Fares percentage of total<br>County=%{x}<br>Percentage of Total Transit Funding=%{y}<extra></extra>\", \"legendgroup\": \"Fares percentage of total\", \"marker\": {\"color\": \"#EF553B\"}, \"name\": \"Fares percentage of total\", \"offsetgroup\": \"Fares percentage of total\", \"orientation\": \"v\", \"showlegend\": true, \"textposition\": \"auto\", \"type\": \"bar\", \"x\": [\"Los Angeles\", \"Contra Costa\", \"Fresno\", \"San Benito\", \"Sacramento\", \"Monterey\", \"San Bernardino\", \"Riverside\", \"Marin\", \"Orange\", \"San Diego\", \"Santa Barbara\", \"San Mateo\", \"Sonoma\", \"San Joaquin\", \"San Francisco\", \"Santa Cruz\", \"Stanislaus\", \"Merced\", \"Tulare\", \"Alameda\", \"Santa Clara\", \"Madera\", \"Imperial\", \"Napa\"], \"xaxis\": \"x\", \"y\": [20.00123420082361, 10.665402228437918, 15.66136198752891, 7.3982558991932414, 13.6316207977852, 16.447500412776147, 11.182799231663038, 9.439099412915281, 8.476980372671127, 13.814877936351339, 22.757165606561212, 21.993788965794273, 23.513670044701918, 9.978076068592841, 9.985004823921221, 33.18353999826408, 18.332809315157185, 7.905809590430342, 7.015681029463772, 9.036474497950557, 35.07425220675982, 7.369611916062883, 3.1735040873336104, 8.637126000877572, 10.683857901062783], \"yaxis\": \"y\"}],                        {\"barmode\": \"relative\", \"legend\": {\"title\": {\"text\": \"\"}, \"tracegroupgap\": 0}, \"template\": {\"data\": {\"bar\": [{\"error_x\": {\"color\": \"#2a3f5f\"}, \"error_y\": {\"color\": \"#2a3f5f\"}, \"marker\": {\"line\": {\"color\": \"#E5ECF6\", \"width\": 0.5}}, \"type\": \"bar\"}], \"barpolar\": [{\"marker\": {\"line\": {\"color\": \"#E5ECF6\", \"width\": 0.5}}, \"type\": \"barpolar\"}], \"carpet\": [{\"aaxis\": {\"endlinecolor\": \"#2a3f5f\", \"gridcolor\": \"white\", \"linecolor\": \"white\", \"minorgridcolor\": \"white\", \"startlinecolor\": \"#2a3f5f\"}, \"baxis\": {\"endlinecolor\": \"#2a3f5f\", \"gridcolor\": \"white\", \"linecolor\": \"white\", \"minorgridcolor\": \"white\", \"startlinecolor\": \"#2a3f5f\"}, \"type\": \"carpet\"}], \"choropleth\": [{\"colorbar\": {\"outlinewidth\": 0, \"ticks\": \"\"}, \"type\": \"choropleth\"}], \"contour\": [{\"colorbar\": {\"outlinewidth\": 0, \"ticks\": \"\"}, \"colorscale\": [[0.0, \"#0d0887\"], [0.1111111111111111, \"#46039f\"], [0.2222222222222222, \"#7201a8\"], [0.3333333333333333, \"#9c179e\"], [0.4444444444444444, \"#bd3786\"], [0.5555555555555556, \"#d8576b\"], [0.6666666666666666, \"#ed7953\"], [0.7777777777777778, \"#fb9f3a\"], [0.8888888888888888, \"#fdca26\"], [1.0, \"#f0f921\"]], \"type\": \"contour\"}], \"contourcarpet\": [{\"colorbar\": {\"outlinewidth\": 0, \"ticks\": \"\"}, \"type\": \"contourcarpet\"}], \"heatmap\": [{\"colorbar\": {\"outlinewidth\": 0, \"ticks\": \"\"}, \"colorscale\": [[0.0, \"#0d0887\"], [0.1111111111111111, \"#46039f\"], [0.2222222222222222, \"#7201a8\"], [0.3333333333333333, \"#9c179e\"], [0.4444444444444444, \"#bd3786\"], [0.5555555555555556, \"#d8576b\"], [0.6666666666666666, \"#ed7953\"], [0.7777777777777778, \"#fb9f3a\"], [0.8888888888888888, \"#fdca26\"], [1.0, \"#f0f921\"]], \"type\": \"heatmap\"}], \"heatmapgl\": [{\"colorbar\": {\"outlinewidth\": 0, \"ticks\": \"\"}, \"colorscale\": [[0.0, \"#0d0887\"], [0.1111111111111111, \"#46039f\"], [0.2222222222222222, \"#7201a8\"], [0.3333333333333333, \"#9c179e\"], [0.4444444444444444, \"#bd3786\"], [0.5555555555555556, \"#d8576b\"], [0.6666666666666666, \"#ed7953\"], [0.7777777777777778, \"#fb9f3a\"], [0.8888888888888888, \"#fdca26\"], [1.0, \"#f0f921\"]], \"type\": \"heatmapgl\"}], \"histogram\": [{\"marker\": {\"colorbar\": {\"outlinewidth\": 0, \"ticks\": \"\"}}, \"type\": \"histogram\"}], \"histogram2d\": [{\"colorbar\": {\"outlinewidth\": 0, \"ticks\": \"\"}, \"colorscale\": [[0.0, \"#0d0887\"], [0.1111111111111111, \"#46039f\"], [0.2222222222222222, \"#7201a8\"], [0.3333333333333333, \"#9c179e\"], [0.4444444444444444, \"#bd3786\"], [0.5555555555555556, \"#d8576b\"], [0.6666666666666666, \"#ed7953\"], [0.7777777777777778, \"#fb9f3a\"], [0.8888888888888888, \"#fdca26\"], [1.0, \"#f0f921\"]], \"type\": \"histogram2d\"}], \"histogram2dcontour\": [{\"colorbar\": {\"outlinewidth\": 0, \"ticks\": \"\"}, \"colorscale\": [[0.0, \"#0d0887\"], [0.1111111111111111, \"#46039f\"], [0.2222222222222222, \"#7201a8\"], [0.3333333333333333, \"#9c179e\"], [0.4444444444444444, \"#bd3786\"], [0.5555555555555556, \"#d8576b\"], [0.6666666666666666, \"#ed7953\"], [0.7777777777777778, \"#fb9f3a\"], [0.8888888888888888, \"#fdca26\"], [1.0, \"#f0f921\"]], \"type\": \"histogram2dcontour\"}], \"mesh3d\": [{\"colorbar\": {\"outlinewidth\": 0, \"ticks\": \"\"}, \"type\": \"mesh3d\"}], \"parcoords\": [{\"line\": {\"colorbar\": {\"outlinewidth\": 0, \"ticks\": \"\"}}, \"type\": \"parcoords\"}], \"pie\": [{\"automargin\": true, \"type\": \"pie\"}], \"scatter\": [{\"marker\": {\"colorbar\": {\"outlinewidth\": 0, \"ticks\": \"\"}}, \"type\": \"scatter\"}], \"scatter3d\": [{\"line\": {\"colorbar\": {\"outlinewidth\": 0, \"ticks\": \"\"}}, \"marker\": {\"colorbar\": {\"outlinewidth\": 0, \"ticks\": \"\"}}, \"type\": \"scatter3d\"}], \"scattercarpet\": [{\"marker\": {\"colorbar\": {\"outlinewidth\": 0, \"ticks\": \"\"}}, \"type\": \"scattercarpet\"}], \"scattergeo\": [{\"marker\": {\"colorbar\": {\"outlinewidth\": 0, \"ticks\": \"\"}}, \"type\": \"scattergeo\"}], \"scattergl\": [{\"marker\": {\"colorbar\": {\"outlinewidth\": 0, \"ticks\": \"\"}}, \"type\": \"scattergl\"}], \"scattermapbox\": [{\"marker\": {\"colorbar\": {\"outlinewidth\": 0, \"ticks\": \"\"}}, \"type\": \"scattermapbox\"}], \"scatterpolar\": [{\"marker\": {\"colorbar\": {\"outlinewidth\": 0, \"ticks\": \"\"}}, \"type\": \"scatterpolar\"}], \"scatterpolargl\": [{\"marker\": {\"colorbar\": {\"outlinewidth\": 0, \"ticks\": \"\"}}, \"type\": \"scatterpolargl\"}], \"scatterternary\": [{\"marker\": {\"colorbar\": {\"outlinewidth\": 0, \"ticks\": \"\"}}, \"type\": \"scatterternary\"}], \"surface\": [{\"colorbar\": {\"outlinewidth\": 0, \"ticks\": \"\"}, \"colorscale\": [[0.0, \"#0d0887\"], [0.1111111111111111, \"#46039f\"], [0.2222222222222222, \"#7201a8\"], [0.3333333333333333, \"#9c179e\"], [0.4444444444444444, \"#bd3786\"], [0.5555555555555556, \"#d8576b\"], [0.6666666666666666, \"#ed7953\"], [0.7777777777777778, \"#fb9f3a\"], [0.8888888888888888, \"#fdca26\"], [1.0, \"#f0f921\"]], \"type\": \"surface\"}], \"table\": [{\"cells\": {\"fill\": {\"color\": \"#EBF0F8\"}, \"line\": {\"color\": \"white\"}}, \"header\": {\"fill\": {\"color\": \"#C8D4E3\"}, \"line\": {\"color\": \"white\"}}, \"type\": \"table\"}]}, \"layout\": {\"annotationdefaults\": {\"arrowcolor\": \"#2a3f5f\", \"arrowhead\": 0, \"arrowwidth\": 1}, \"autotypenumbers\": \"strict\", \"coloraxis\": {\"colorbar\": {\"outlinewidth\": 0, \"ticks\": \"\"}}, \"colorscale\": {\"diverging\": [[0, \"#8e0152\"], [0.1, \"#c51b7d\"], [0.2, \"#de77ae\"], [0.3, \"#f1b6da\"], [0.4, \"#fde0ef\"], [0.5, \"#f7f7f7\"], [0.6, \"#e6f5d0\"], [0.7, \"#b8e186\"], [0.8, \"#7fbc41\"], [0.9, \"#4d9221\"], [1, \"#276419\"]], \"sequential\": [[0.0, \"#0d0887\"], [0.1111111111111111, \"#46039f\"], [0.2222222222222222, \"#7201a8\"], [0.3333333333333333, \"#9c179e\"], [0.4444444444444444, \"#bd3786\"], [0.5555555555555556, \"#d8576b\"], [0.6666666666666666, \"#ed7953\"], [0.7777777777777778, \"#fb9f3a\"], [0.8888888888888888, \"#fdca26\"], [1.0, \"#f0f921\"]], \"sequentialminus\": [[0.0, \"#0d0887\"], [0.1111111111111111, \"#46039f\"], [0.2222222222222222, \"#7201a8\"], [0.3333333333333333, \"#9c179e\"], [0.4444444444444444, \"#bd3786\"], [0.5555555555555556, \"#d8576b\"], [0.6666666666666666, \"#ed7953\"], [0.7777777777777778, \"#fb9f3a\"], [0.8888888888888888, \"#fdca26\"], [1.0, \"#f0f921\"]]}, \"colorway\": [\"#636efa\", \"#EF553B\", \"#00cc96\", \"#ab63fa\", \"#FFA15A\", \"#19d3f3\", \"#FF6692\", \"#B6E880\", \"#FF97FF\", \"#FECB52\"], \"font\": {\"color\": \"#2a3f5f\"}, \"geo\": {\"bgcolor\": \"white\", \"lakecolor\": \"white\", \"landcolor\": \"#E5ECF6\", \"showlakes\": true, \"showland\": true, \"subunitcolor\": \"white\"}, \"hoverlabel\": {\"align\": \"left\"}, \"hovermode\": \"closest\", \"mapbox\": {\"style\": \"light\"}, \"paper_bgcolor\": \"white\", \"plot_bgcolor\": \"#E5ECF6\", \"polar\": {\"angularaxis\": {\"gridcolor\": \"white\", \"linecolor\": \"white\", \"ticks\": \"\"}, \"bgcolor\": \"#E5ECF6\", \"radialaxis\": {\"gridcolor\": \"white\", \"linecolor\": \"white\", \"ticks\": \"\"}}, \"scene\": {\"xaxis\": {\"backgroundcolor\": \"#E5ECF6\", \"gridcolor\": \"white\", \"gridwidth\": 2, \"linecolor\": \"white\", \"showbackground\": true, \"ticks\": \"\", \"zerolinecolor\": \"white\"}, \"yaxis\": {\"backgroundcolor\": \"#E5ECF6\", \"gridcolor\": \"white\", \"gridwidth\": 2, \"linecolor\": \"white\", \"showbackground\": true, \"ticks\": \"\", \"zerolinecolor\": \"white\"}, \"zaxis\": {\"backgroundcolor\": \"#E5ECF6\", \"gridcolor\": \"white\", \"gridwidth\": 2, \"linecolor\": \"white\", \"showbackground\": true, \"ticks\": \"\", \"zerolinecolor\": \"white\"}}, \"shapedefaults\": {\"line\": {\"color\": \"#2a3f5f\"}}, \"ternary\": {\"aaxis\": {\"gridcolor\": \"white\", \"linecolor\": \"white\", \"ticks\": \"\"}, \"baxis\": {\"gridcolor\": \"white\", \"linecolor\": \"white\", \"ticks\": \"\"}, \"bgcolor\": \"#E5ECF6\", \"caxis\": {\"gridcolor\": \"white\", \"linecolor\": \"white\", \"ticks\": \"\"}}, \"title\": {\"x\": 0.05}, \"xaxis\": {\"automargin\": true, \"gridcolor\": \"white\", \"linecolor\": \"white\", \"ticks\": \"\", \"title\": {\"standoff\": 15}, \"zerolinecolor\": \"white\", \"zerolinewidth\": 2}, \"yaxis\": {\"automargin\": true, \"gridcolor\": \"white\", \"linecolor\": \"white\", \"ticks\": \"\", \"title\": {\"standoff\": 15}, \"zerolinecolor\": \"white\", \"zerolinewidth\": 2}}}, \"title\": {\"text\": \"Comparing LOST Funding to Passenger Fares in each County\"}, \"xaxis\": {\"anchor\": \"y\", \"domain\": [0.0, 1.0], \"title\": {\"text\": \"County\"}}, \"yaxis\": {\"anchor\": \"x\", \"domain\": [0.0, 1.0], \"title\": {\"text\": \"Percentage of Total Transit Funding\"}}},                        {\"responsive\": true}                    ).then(function(){\n",
       "                            \n",
       "var gd = document.getElementById('9163bd3b-68e8-4fc8-b135-6c096cde6d23');\n",
       "var x = new MutationObserver(function (mutations, observer) {{\n",
       "        var display = window.getComputedStyle(gd).display;\n",
       "        if (!display || display === 'none') {{\n",
       "            console.log([gd, 'removed!']);\n",
       "            Plotly.purge(gd);\n",
       "            observer.disconnect();\n",
       "        }}\n",
       "}});\n",
       "\n",
       "// Listen for the removal of the full notebook cells\n",
       "var notebookContainer = gd.closest('#notebook-container');\n",
       "if (notebookContainer) {{\n",
       "    x.observe(notebookContainer, {childList: true});\n",
       "}}\n",
       "\n",
       "// Listen for the clearing of the current output cell\n",
       "var outputEl = gd.closest('.output');\n",
       "if (outputEl) {{\n",
       "    x.observe(outputEl, {childList: true});\n",
       "}}\n",
       "\n",
       "                        })                };                });            </script>        </div>"
      ]
     },
     "metadata": {},
     "output_type": "display_data"
    }
   ],
   "source": [
    "fig.show()"
   ]
  },
  {
   "cell_type": "code",
   "execution_count": 20,
   "metadata": {},
   "outputs": [],
   "source": [
    "all_funding_19['County'] = all_funding_19.index"
   ]
  },
  {
   "cell_type": "code",
   "execution_count": 18,
   "metadata": {},
   "outputs": [
    {
     "data": {
      "image/png": "[encoded data removed]",
      "text/plain": [
       "<Figure size 720x432 with 1 Axes>"
      ]
     },
     "metadata": {
      "needs_background": "light"
     },
     "output_type": "display_data"
    }
   ],
   "source": [
    "#this info might be better presented as a stacked bar with all funding sources?\n",
    "\n",
    "(all_funding_19.sort_values('LOST ratio of total', ascending=False)\n",
    " [['Fares ratio of total', 'LOST ratio of total', 'LOST operations ratio of total']]\n",
    " .plot(kind='bar', width=1, figsize=(10,6)) );"
   ]
  },
  {
   "cell_type": "code",
   "execution_count": 19,
   "metadata": {},
   "outputs": [
    {
     "data": {
      "image/png": "[encoded data removed]",
      "text/plain": [
       "<Figure size 432x288 with 1 Axes>"
      ]
     },
     "metadata": {
      "needs_background": "light"
     },
     "output_type": "display_data"
    }
   ],
   "source": [
    "all_funding_19.sort_values('LOST operations funding ratio of operating expenses', ascending=False)[['LOST operations funding ratio of operating expenses']].plot(kind='bar');"
   ]
  },
  {
   "cell_type": "code",
   "execution_count": 20,
   "metadata": {},
   "outputs": [
    {
     "data": {
      "text/html": [
       "<div>\n",
       "<style scoped>\n",
       "    .dataframe tbody tr th:only-of-type {\n",
       "        vertical-align: middle;\n",
       "    }\n",
       "\n",
       "    .dataframe tbody tr th {\n",
       "        vertical-align: top;\n",
       "    }\n",
       "\n",
       "    .dataframe thead th {\n",
       "        text-align: right;\n",
       "    }\n",
       "</style>\n",
       "<table border=\"1\" class=\"dataframe\">\n",
       "  <thead>\n",
       "    <tr style=\"text-align: right;\">\n",
       "      <th></th>\n",
       "      <th>ballot_designation</th>\n",
       "      <th>county_fips</th>\n",
       "      <th>county_name</th>\n",
       "      <th>lost_rate</th>\n",
       "      <th>total_pct_transit</th>\n",
       "      <th>pct_transit_ops</th>\n",
       "      <th>pct_transit_capital</th>\n",
       "      <th>pct_local_return</th>\n",
       "      <th>pct_hwy</th>\n",
       "      <th>pct_streets</th>\n",
       "      <th>pct_discretionary</th>\n",
       "      <th>year</th>\n",
       "      <th>amendable</th>\n",
       "      <th>change_feq</th>\n",
       "      <th>two_thirds_req</th>\n",
       "    </tr>\n",
       "    <tr>\n",
       "      <th>cdtfa_id</th>\n",
       "      <th></th>\n",
       "      <th></th>\n",
       "      <th></th>\n",
       "      <th></th>\n",
       "      <th></th>\n",
       "      <th></th>\n",
       "      <th></th>\n",
       "      <th></th>\n",
       "      <th></th>\n",
       "      <th></th>\n",
       "      <th></th>\n",
       "      <th></th>\n",
       "      <th></th>\n",
       "      <th></th>\n",
       "      <th></th>\n",
       "    </tr>\n",
       "  </thead>\n",
       "  <tbody>\n",
       "    <tr>\n",
       "      <th>79</th>\n",
       "      <td>Measure B</td>\n",
       "      <td>6001</td>\n",
       "      <td>Alameda</td>\n",
       "      <td>0.00500</td>\n",
       "      <td>0.5900</td>\n",
       "      <td>NaN</td>\n",
       "      <td>NaN</td>\n",
       "      <td>0.2400</td>\n",
       "      <td>0.1700</td>\n",
       "      <td>NaN</td>\n",
       "      <td>NaN</td>\n",
       "      <td>2000.0</td>\n",
       "      <td>True</td>\n",
       "      <td>NaN</td>\n",
       "      <td>True</td>\n",
       "    </tr>\n",
       "    <tr>\n",
       "      <th>377</th>\n",
       "      <td>Measure BB</td>\n",
       "      <td>6001</td>\n",
       "      <td>Alameda</td>\n",
       "      <td>0.01000</td>\n",
       "      <td>0.4800</td>\n",
       "      <td>0.2381</td>\n",
       "      <td>0.1400</td>\n",
       "      <td>NaN</td>\n",
       "      <td>0.3000</td>\n",
       "      <td>0.0900</td>\n",
       "      <td>NaN</td>\n",
       "      <td>2014.0</td>\n",
       "      <td>True</td>\n",
       "      <td>NaN</td>\n",
       "      <td>True</td>\n",
       "    </tr>\n",
       "    <tr>\n",
       "      <th>24</th>\n",
       "      <td>Measure J</td>\n",
       "      <td>6013</td>\n",
       "      <td>Contra Costa</td>\n",
       "      <td>0.00500</td>\n",
       "      <td>0.3270</td>\n",
       "      <td>0.1880</td>\n",
       "      <td>0.1390</td>\n",
       "      <td>NaN</td>\n",
       "      <td>0.2550</td>\n",
       "      <td>26.4000</td>\n",
       "      <td>0.600</td>\n",
       "      <td>2004.0</td>\n",
       "      <td>True</td>\n",
       "      <td>NaN</td>\n",
       "      <td>True</td>\n",
       "    </tr>\n",
       "    <tr>\n",
       "      <th>12</th>\n",
       "      <td>Measure C Extension</td>\n",
       "      <td>6019</td>\n",
       "      <td>Fresno</td>\n",
       "      <td>0.00500</td>\n",
       "      <td>0.3200</td>\n",
       "      <td>NaN</td>\n",
       "      <td>0.0600</td>\n",
       "      <td>0.3460</td>\n",
       "      <td>0.2940</td>\n",
       "      <td>NaN</td>\n",
       "      <td>NaN</td>\n",
       "      <td>2007.0</td>\n",
       "      <td>True</td>\n",
       "      <td>NaN</td>\n",
       "      <td>NaN</td>\n",
       "    </tr>\n",
       "    <tr>\n",
       "      <th>29</th>\n",
       "      <td>Measure D</td>\n",
       "      <td>6025</td>\n",
       "      <td>Imperial</td>\n",
       "      <td>0.00500</td>\n",
       "      <td>0.0200</td>\n",
       "      <td>NaN</td>\n",
       "      <td>NaN</td>\n",
       "      <td>NaN</td>\n",
       "      <td>0.0500</td>\n",
       "      <td>0.9300</td>\n",
       "      <td>NaN</td>\n",
       "      <td>2008.0</td>\n",
       "      <td>True</td>\n",
       "      <td>NaN</td>\n",
       "      <td>True</td>\n",
       "    </tr>\n",
       "    <tr>\n",
       "      <th>5</th>\n",
       "      <td>Proposition A</td>\n",
       "      <td>6037</td>\n",
       "      <td>Los Angeles</td>\n",
       "      <td>0.00500</td>\n",
       "      <td>1.0000</td>\n",
       "      <td>NaN</td>\n",
       "      <td>NaN</td>\n",
       "      <td>NaN</td>\n",
       "      <td>NaN</td>\n",
       "      <td>NaN</td>\n",
       "      <td>NaN</td>\n",
       "      <td>1980.0</td>\n",
       "      <td>NaN</td>\n",
       "      <td>NaN</td>\n",
       "      <td>NaN</td>\n",
       "    </tr>\n",
       "    <tr>\n",
       "      <th>35</th>\n",
       "      <td>Proposition C</td>\n",
       "      <td>6037</td>\n",
       "      <td>Los Angeles</td>\n",
       "      <td>0.00500</td>\n",
       "      <td>0.5500</td>\n",
       "      <td>NaN</td>\n",
       "      <td>NaN</td>\n",
       "      <td>0.2000</td>\n",
       "      <td>0.2500</td>\n",
       "      <td>NaN</td>\n",
       "      <td>NaN</td>\n",
       "      <td>1990.0</td>\n",
       "      <td>NaN</td>\n",
       "      <td>NaN</td>\n",
       "      <td>NaN</td>\n",
       "    </tr>\n",
       "    <tr>\n",
       "      <th>217</th>\n",
       "      <td>Measure R</td>\n",
       "      <td>6037</td>\n",
       "      <td>Los Angeles</td>\n",
       "      <td>0.00500</td>\n",
       "      <td>0.6500</td>\n",
       "      <td>0.2500</td>\n",
       "      <td>0.4000</td>\n",
       "      <td>0.1500</td>\n",
       "      <td>0.2000</td>\n",
       "      <td>NaN</td>\n",
       "      <td>NaN</td>\n",
       "      <td>2008.0</td>\n",
       "      <td>True</td>\n",
       "      <td>10.0</td>\n",
       "      <td>NaN</td>\n",
       "    </tr>\n",
       "    <tr>\n",
       "      <th>576</th>\n",
       "      <td>Measure M</td>\n",
       "      <td>6037</td>\n",
       "      <td>Los Angeles</td>\n",
       "      <td>0.00500</td>\n",
       "      <td>0.6500</td>\n",
       "      <td>0.2700</td>\n",
       "      <td>0.3800</td>\n",
       "      <td>0.1600</td>\n",
       "      <td>0.1700</td>\n",
       "      <td>0.0200</td>\n",
       "      <td>NaN</td>\n",
       "      <td>2016.0</td>\n",
       "      <td>True</td>\n",
       "      <td>NaN</td>\n",
       "      <td>NaN</td>\n",
       "    </tr>\n",
       "    <tr>\n",
       "      <th>144</th>\n",
       "      <td>T</td>\n",
       "      <td>6039</td>\n",
       "      <td>Madera</td>\n",
       "      <td>0.00500</td>\n",
       "      <td>0.0200</td>\n",
       "      <td>NaN</td>\n",
       "      <td>NaN</td>\n",
       "      <td>0.2175</td>\n",
       "      <td>NaN</td>\n",
       "      <td>0.2175</td>\n",
       "      <td>0.510</td>\n",
       "      <td>2006.0</td>\n",
       "      <td>NaN</td>\n",
       "      <td>NaN</td>\n",
       "      <td>NaN</td>\n",
       "    </tr>\n",
       "    <tr>\n",
       "      <th>102</th>\n",
       "      <td>AA</td>\n",
       "      <td>6041</td>\n",
       "      <td>Marin</td>\n",
       "      <td>0.00500</td>\n",
       "      <td>0.5500</td>\n",
       "      <td>0.5100</td>\n",
       "      <td>0.0400</td>\n",
       "      <td>NaN</td>\n",
       "      <td>0.0700</td>\n",
       "      <td>0.2650</td>\n",
       "      <td>NaN</td>\n",
       "      <td>2018.0</td>\n",
       "      <td>True</td>\n",
       "      <td>6.0</td>\n",
       "      <td>True</td>\n",
       "    </tr>\n",
       "    <tr>\n",
       "      <th>481</th>\n",
       "      <td>Measure V</td>\n",
       "      <td>6041</td>\n",
       "      <td>Merced</td>\n",
       "      <td>0.00500</td>\n",
       "      <td>0.0500</td>\n",
       "      <td>0.0500</td>\n",
       "      <td>NaN</td>\n",
       "      <td>0.5000</td>\n",
       "      <td>NaN</td>\n",
       "      <td>NaN</td>\n",
       "      <td>0.440</td>\n",
       "      <td>2016.0</td>\n",
       "      <td>True</td>\n",
       "      <td>1.0</td>\n",
       "      <td>NaN</td>\n",
       "    </tr>\n",
       "    <tr>\n",
       "      <th>486</th>\n",
       "      <td>Measure X</td>\n",
       "      <td>6047</td>\n",
       "      <td>Monterey</td>\n",
       "      <td>0.00375</td>\n",
       "      <td>0.0600</td>\n",
       "      <td>0.0600</td>\n",
       "      <td>NaN</td>\n",
       "      <td>NaN</td>\n",
       "      <td>0.2700</td>\n",
       "      <td>0.6000</td>\n",
       "      <td>NaN</td>\n",
       "      <td>2016.0</td>\n",
       "      <td>True</td>\n",
       "      <td>NaN</td>\n",
       "      <td>True</td>\n",
       "    </tr>\n",
       "    <tr>\n",
       "      <th>394</th>\n",
       "      <td>Measure Q</td>\n",
       "      <td>6053</td>\n",
       "      <td>Monterey-Salinas Transit District</td>\n",
       "      <td>0.12500</td>\n",
       "      <td>1.0000</td>\n",
       "      <td>1.0000</td>\n",
       "      <td>NaN</td>\n",
       "      <td>NaN</td>\n",
       "      <td>NaN</td>\n",
       "      <td>NaN</td>\n",
       "      <td>NaN</td>\n",
       "      <td>2015.0</td>\n",
       "      <td>NaN</td>\n",
       "      <td>NaN</td>\n",
       "      <td>NaN</td>\n",
       "    </tr>\n",
       "    <tr>\n",
       "      <th>631</th>\n",
       "      <td>T</td>\n",
       "      <td>6053</td>\n",
       "      <td>Napa</td>\n",
       "      <td>0.00500</td>\n",
       "      <td>0.0000</td>\n",
       "      <td>NaN</td>\n",
       "      <td>NaN</td>\n",
       "      <td>NaN</td>\n",
       "      <td>NaN</td>\n",
       "      <td>0.9900</td>\n",
       "      <td>NaN</td>\n",
       "      <td>2018.0</td>\n",
       "      <td>True</td>\n",
       "      <td>NaN</td>\n",
       "      <td>True</td>\n",
       "    </tr>\n",
       "    <tr>\n",
       "      <th>37</th>\n",
       "      <td>M2</td>\n",
       "      <td>6055</td>\n",
       "      <td>Orange</td>\n",
       "      <td>0.00500</td>\n",
       "      <td>0.2000</td>\n",
       "      <td>0.0500</td>\n",
       "      <td>NaN</td>\n",
       "      <td>NaN</td>\n",
       "      <td>0.4300</td>\n",
       "      <td>0.3200</td>\n",
       "      <td>NaN</td>\n",
       "      <td>2006.0</td>\n",
       "      <td>True</td>\n",
       "      <td>NaN</td>\n",
       "      <td>True</td>\n",
       "    </tr>\n",
       "    <tr>\n",
       "      <th>26</th>\n",
       "      <td>A2</td>\n",
       "      <td>6059</td>\n",
       "      <td>Riverside</td>\n",
       "      <td>0.00500</td>\n",
       "      <td>0.1500</td>\n",
       "      <td>0.1500</td>\n",
       "      <td>NaN</td>\n",
       "      <td>NaN</td>\n",
       "      <td>0.5000</td>\n",
       "      <td>0.3500</td>\n",
       "      <td>NaN</td>\n",
       "      <td>2002.0</td>\n",
       "      <td>True</td>\n",
       "      <td>NaN</td>\n",
       "      <td>NaN</td>\n",
       "    </tr>\n",
       "    <tr>\n",
       "      <th>23</th>\n",
       "      <td>A2</td>\n",
       "      <td>6065</td>\n",
       "      <td>Sacramento</td>\n",
       "      <td>0.00500</td>\n",
       "      <td>0.4250</td>\n",
       "      <td>NaN</td>\n",
       "      <td>NaN</td>\n",
       "      <td>NaN</td>\n",
       "      <td>0.1200</td>\n",
       "      <td>0.4300</td>\n",
       "      <td>0.250</td>\n",
       "      <td>2004.0</td>\n",
       "      <td>True</td>\n",
       "      <td>10.0</td>\n",
       "      <td>NaN</td>\n",
       "    </tr>\n",
       "    <tr>\n",
       "      <th>706</th>\n",
       "      <td>Measure G</td>\n",
       "      <td>6067</td>\n",
       "      <td>San Benito</td>\n",
       "      <td>0.01000</td>\n",
       "      <td>0.0550</td>\n",
       "      <td>NaN</td>\n",
       "      <td>NaN</td>\n",
       "      <td>NaN</td>\n",
       "      <td>0.5000</td>\n",
       "      <td>0.4500</td>\n",
       "      <td>NaN</td>\n",
       "      <td>2018.0</td>\n",
       "      <td>True</td>\n",
       "      <td>1.0</td>\n",
       "      <td>NaN</td>\n",
       "    </tr>\n",
       "    <tr>\n",
       "      <th>31</th>\n",
       "      <td>Measure I2</td>\n",
       "      <td>6069</td>\n",
       "      <td>San Bernardino</td>\n",
       "      <td>0.00500</td>\n",
       "      <td>0.1600</td>\n",
       "      <td>0.1000</td>\n",
       "      <td>0.0600</td>\n",
       "      <td>NaN</td>\n",
       "      <td>0.3860</td>\n",
       "      <td>0.4360</td>\n",
       "      <td>NaN</td>\n",
       "      <td>2004.0</td>\n",
       "      <td>True</td>\n",
       "      <td>10.0</td>\n",
       "      <td>NaN</td>\n",
       "    </tr>\n",
       "    <tr>\n",
       "      <th>13</th>\n",
       "      <td>TransNet2</td>\n",
       "      <td>6071</td>\n",
       "      <td>San Diego</td>\n",
       "      <td>0.00500</td>\n",
       "      <td>0.2460</td>\n",
       "      <td>0.2460</td>\n",
       "      <td>NaN</td>\n",
       "      <td>NaN</td>\n",
       "      <td>NaN</td>\n",
       "      <td>0.2910</td>\n",
       "      <td>0.424</td>\n",
       "      <td>2004.0</td>\n",
       "      <td>True</td>\n",
       "      <td>10.0</td>\n",
       "      <td>True</td>\n",
       "    </tr>\n",
       "    <tr>\n",
       "      <th>27</th>\n",
       "      <td>Proposition K</td>\n",
       "      <td>6073</td>\n",
       "      <td>San Francisco</td>\n",
       "      <td>0.00500</td>\n",
       "      <td>0.7410</td>\n",
       "      <td>NaN</td>\n",
       "      <td>NaN</td>\n",
       "      <td>NaN</td>\n",
       "      <td>NaN</td>\n",
       "      <td>0.2460</td>\n",
       "      <td>0.013</td>\n",
       "      <td>2004.0</td>\n",
       "      <td>True</td>\n",
       "      <td>NaN</td>\n",
       "      <td>NaN</td>\n",
       "    </tr>\n",
       "    <tr>\n",
       "      <th>38</th>\n",
       "      <td>K</td>\n",
       "      <td>6075</td>\n",
       "      <td>San Joaquin</td>\n",
       "      <td>0.00500</td>\n",
       "      <td>0.2790</td>\n",
       "      <td>0.2640</td>\n",
       "      <td>0.0150</td>\n",
       "      <td>0.1700</td>\n",
       "      <td>0.3250</td>\n",
       "      <td>0.3500</td>\n",
       "      <td>NaN</td>\n",
       "      <td>2006.0</td>\n",
       "      <td>True</td>\n",
       "      <td>1.0</td>\n",
       "      <td>True</td>\n",
       "    </tr>\n",
       "    <tr>\n",
       "      <th>18</th>\n",
       "      <td>A2</td>\n",
       "      <td>6081</td>\n",
       "      <td>San Mateo</td>\n",
       "      <td>0.00500</td>\n",
       "      <td>0.3000</td>\n",
       "      <td>0.2800</td>\n",
       "      <td>0.0200</td>\n",
       "      <td>0.2250</td>\n",
       "      <td>0.2750</td>\n",
       "      <td>0.2250</td>\n",
       "      <td>NaN</td>\n",
       "      <td>2004.0</td>\n",
       "      <td>True</td>\n",
       "      <td>1.0</td>\n",
       "      <td>True</td>\n",
       "    </tr>\n",
       "    <tr>\n",
       "      <th>742</th>\n",
       "      <td>W</td>\n",
       "      <td>6081</td>\n",
       "      <td>San Mateo</td>\n",
       "      <td>0.00500</td>\n",
       "      <td>0.5000</td>\n",
       "      <td>NaN</td>\n",
       "      <td>NaN</td>\n",
       "      <td>0.1000</td>\n",
       "      <td>0.2250</td>\n",
       "      <td>0.1750</td>\n",
       "      <td>0.100</td>\n",
       "      <td>2018.0</td>\n",
       "      <td>True</td>\n",
       "      <td>NaN</td>\n",
       "      <td>NaN</td>\n",
       "    </tr>\n",
       "    <tr>\n",
       "      <th>30</th>\n",
       "      <td>A</td>\n",
       "      <td>6077</td>\n",
       "      <td>Santa Barbara</td>\n",
       "      <td>0.00500</td>\n",
       "      <td>0.1603</td>\n",
       "      <td>NaN</td>\n",
       "      <td>NaN</td>\n",
       "      <td>0.5844</td>\n",
       "      <td>0.2028</td>\n",
       "      <td>NaN</td>\n",
       "      <td>NaN</td>\n",
       "      <td>2008.0</td>\n",
       "      <td>True</td>\n",
       "      <td>10.0</td>\n",
       "      <td>NaN</td>\n",
       "    </tr>\n",
       "    <tr>\n",
       "      <th>3</th>\n",
       "      <td>A</td>\n",
       "      <td>6085</td>\n",
       "      <td>Santa Clara</td>\n",
       "      <td>0.00500</td>\n",
       "      <td>NaN</td>\n",
       "      <td>NaN</td>\n",
       "      <td>NaN</td>\n",
       "      <td>NaN</td>\n",
       "      <td>NaN</td>\n",
       "      <td>NaN</td>\n",
       "      <td>NaN</td>\n",
       "      <td>2000.0</td>\n",
       "      <td>NaN</td>\n",
       "      <td>NaN</td>\n",
       "      <td>NaN</td>\n",
       "    </tr>\n",
       "    <tr>\n",
       "      <th>123</th>\n",
       "      <td>B</td>\n",
       "      <td>6085</td>\n",
       "      <td>Santa Clara</td>\n",
       "      <td>0.12500</td>\n",
       "      <td>NaN</td>\n",
       "      <td>NaN</td>\n",
       "      <td>NaN</td>\n",
       "      <td>NaN</td>\n",
       "      <td>NaN</td>\n",
       "      <td>NaN</td>\n",
       "      <td>NaN</td>\n",
       "      <td>NaN</td>\n",
       "      <td>NaN</td>\n",
       "      <td>NaN</td>\n",
       "      <td>NaN</td>\n",
       "    </tr>\n",
       "    <tr>\n",
       "      <th>280</th>\n",
       "      <td>B</td>\n",
       "      <td>6085</td>\n",
       "      <td>Santa Clara</td>\n",
       "      <td>0.00500</td>\n",
       "      <td>0.4784</td>\n",
       "      <td>0.1292</td>\n",
       "      <td>0.3492</td>\n",
       "      <td>0.1905</td>\n",
       "      <td>0.2381</td>\n",
       "      <td>NaN</td>\n",
       "      <td>NaN</td>\n",
       "      <td>2016.0</td>\n",
       "      <td>NaN</td>\n",
       "      <td>NaN</td>\n",
       "      <td>NaN</td>\n",
       "    </tr>\n",
       "    <tr>\n",
       "      <th>547</th>\n",
       "      <td>Measure D</td>\n",
       "      <td>6087</td>\n",
       "      <td>Santa Cruz</td>\n",
       "      <td>0.00500</td>\n",
       "      <td>0.2800</td>\n",
       "      <td>0.2000</td>\n",
       "      <td>0.0800</td>\n",
       "      <td>0.3000</td>\n",
       "      <td>0.2500</td>\n",
       "      <td>0.1700</td>\n",
       "      <td>NaN</td>\n",
       "      <td>2016.0</td>\n",
       "      <td>True</td>\n",
       "      <td>NaN</td>\n",
       "      <td>True</td>\n",
       "    </tr>\n",
       "    <tr>\n",
       "      <th>115</th>\n",
       "      <td>M</td>\n",
       "      <td>6097</td>\n",
       "      <td>Sonoma</td>\n",
       "      <td>0.00250</td>\n",
       "      <td>0.1900</td>\n",
       "      <td>NaN</td>\n",
       "      <td>NaN</td>\n",
       "      <td>0.2000</td>\n",
       "      <td>0.4000</td>\n",
       "      <td>0.2000</td>\n",
       "      <td>NaN</td>\n",
       "      <td>2004.0</td>\n",
       "      <td>True</td>\n",
       "      <td>NaN</td>\n",
       "      <td>NaN</td>\n",
       "    </tr>\n",
       "    <tr>\n",
       "      <th>193</th>\n",
       "      <td>Q</td>\n",
       "      <td>6097</td>\n",
       "      <td>Sonoma/Marin</td>\n",
       "      <td>0.00250</td>\n",
       "      <td>NaN</td>\n",
       "      <td>NaN</td>\n",
       "      <td>NaN</td>\n",
       "      <td>NaN</td>\n",
       "      <td>NaN</td>\n",
       "      <td>NaN</td>\n",
       "      <td>NaN</td>\n",
       "      <td>2003.0</td>\n",
       "      <td>True</td>\n",
       "      <td>1.0</td>\n",
       "      <td>NaN</td>\n",
       "    </tr>\n",
       "    <tr>\n",
       "      <th>566</th>\n",
       "      <td>L</td>\n",
       "      <td>6099</td>\n",
       "      <td>Stanislaus</td>\n",
       "      <td>0.00500</td>\n",
       "      <td>0.0700</td>\n",
       "      <td>NaN</td>\n",
       "      <td>NaN</td>\n",
       "      <td>0.6500</td>\n",
       "      <td>0.2800</td>\n",
       "      <td>NaN</td>\n",
       "      <td>NaN</td>\n",
       "      <td>2016.0</td>\n",
       "      <td>True</td>\n",
       "      <td>1.0</td>\n",
       "      <td>True</td>\n",
       "    </tr>\n",
       "    <tr>\n",
       "      <th>162</th>\n",
       "      <td>R</td>\n",
       "      <td>6107</td>\n",
       "      <td>Tulare</td>\n",
       "      <td>0.00500</td>\n",
       "      <td>0.0600</td>\n",
       "      <td>NaN</td>\n",
       "      <td>NaN</td>\n",
       "      <td>0.3500</td>\n",
       "      <td>0.5000</td>\n",
       "      <td>NaN</td>\n",
       "      <td>NaN</td>\n",
       "      <td>2006.0</td>\n",
       "      <td>True</td>\n",
       "      <td>1.0</td>\n",
       "      <td>NaN</td>\n",
       "    </tr>\n",
       "  </tbody>\n",
       "</table>\n",
       "</div>"
      ],
      "text/plain": [
       "           ballot_designation  county_fips                        county_name  \\\n",
       "cdtfa_id                                                                        \n",
       "79                  Measure B         6001                            Alameda   \n",
       "377                Measure BB         6001                            Alameda   \n",
       "24                  Measure J         6013                       Contra Costa   \n",
       "12        Measure C Extension         6019                             Fresno   \n",
       "29                  Measure D         6025                           Imperial   \n",
       "5               Proposition A         6037                        Los Angeles   \n",
       "35              Proposition C         6037                        Los Angeles   \n",
       "217                 Measure R         6037                        Los Angeles   \n",
       "576                 Measure M         6037                        Los Angeles   \n",
       "144                         T         6039                             Madera   \n",
       "102                        AA         6041                              Marin   \n",
       "481                 Measure V         6041                             Merced   \n",
       "486                 Measure X         6047                           Monterey   \n",
       "394                 Measure Q         6053  Monterey-Salinas Transit District   \n",
       "631                         T         6053                               Napa   \n",
       "37                         M2         6055                             Orange   \n",
       "26                         A2         6059                          Riverside   \n",
       "23                         A2         6065                         Sacramento   \n",
       "706                 Measure G         6067                         San Benito   \n",
       "31                 Measure I2         6069                     San Bernardino   \n",
       "13                  TransNet2         6071                          San Diego   \n",
       "27              Proposition K         6073                      San Francisco   \n",
       "38                          K         6075                        San Joaquin   \n",
       "18                         A2         6081                          San Mateo   \n",
       "742                         W         6081                          San Mateo   \n",
       "30                          A         6077                      Santa Barbara   \n",
       "3                           A         6085                        Santa Clara   \n",
       "123                         B         6085                        Santa Clara   \n",
       "280                         B         6085                        Santa Clara   \n",
       "547                 Measure D         6087                         Santa Cruz   \n",
       "115                         M         6097                             Sonoma   \n",
       "193                         Q         6097                       Sonoma/Marin   \n",
       "566                         L         6099                         Stanislaus   \n",
       "162                         R         6107                             Tulare   \n",
       "\n",
       "          lost_rate  total_pct_transit  pct_transit_ops  pct_transit_capital  \\\n",
       "cdtfa_id                                                                       \n",
       "79          0.00500             0.5900              NaN                  NaN   \n",
       "377         0.01000             0.4800           0.2381               0.1400   \n",
       "24          0.00500             0.3270           0.1880               0.1390   \n",
       "12          0.00500             0.3200              NaN               0.0600   \n",
       "29          0.00500             0.0200              NaN                  NaN   \n",
       "5           0.00500             1.0000              NaN                  NaN   \n",
       "35          0.00500             0.5500              NaN                  NaN   \n",
       "217         0.00500             0.6500           0.2500               0.4000   \n",
       "576         0.00500             0.6500           0.2700               0.3800   \n",
       "144         0.00500             0.0200              NaN                  NaN   \n",
       "102         0.00500             0.5500           0.5100               0.0400   \n",
       "481         0.00500             0.0500           0.0500                  NaN   \n",
       "486         0.00375             0.0600           0.0600                  NaN   \n",
       "394         0.12500             1.0000           1.0000                  NaN   \n",
       "631         0.00500             0.0000              NaN                  NaN   \n",
       "37          0.00500             0.2000           0.0500                  NaN   \n",
       "26          0.00500             0.1500           0.1500                  NaN   \n",
       "23          0.00500             0.4250              NaN                  NaN   \n",
       "706         0.01000             0.0550              NaN                  NaN   \n",
       "31          0.00500             0.1600           0.1000               0.0600   \n",
       "13          0.00500             0.2460           0.2460                  NaN   \n",
       "27          0.00500             0.7410              NaN                  NaN   \n",
       "38          0.00500             0.2790           0.2640               0.0150   \n",
       "18          0.00500             0.3000           0.2800               0.0200   \n",
       "742         0.00500             0.5000              NaN                  NaN   \n",
       "30          0.00500             0.1603              NaN                  NaN   \n",
       "3           0.00500                NaN              NaN                  NaN   \n",
       "123         0.12500                NaN              NaN                  NaN   \n",
       "280         0.00500             0.4784           0.1292               0.3492   \n",
       "547         0.00500             0.2800           0.2000               0.0800   \n",
       "115         0.00250             0.1900              NaN                  NaN   \n",
       "193         0.00250                NaN              NaN                  NaN   \n",
       "566         0.00500             0.0700              NaN                  NaN   \n",
       "162         0.00500             0.0600              NaN                  NaN   \n",
       "\n",
       "          pct_local_return  pct_hwy  pct_streets  pct_discretionary    year  \\\n",
       "cdtfa_id                                                                      \n",
       "79                  0.2400   0.1700          NaN                NaN  2000.0   \n",
       "377                    NaN   0.3000       0.0900                NaN  2014.0   \n",
       "24                     NaN   0.2550      26.4000              0.600  2004.0   \n",
       "12                  0.3460   0.2940          NaN                NaN  2007.0   \n",
       "29                     NaN   0.0500       0.9300                NaN  2008.0   \n",
       "5                      NaN      NaN          NaN                NaN  1980.0   \n",
       "35                  0.2000   0.2500          NaN                NaN  1990.0   \n",
       "217                 0.1500   0.2000          NaN                NaN  2008.0   \n",
       "576                 0.1600   0.1700       0.0200                NaN  2016.0   \n",
       "144                 0.2175      NaN       0.2175              0.510  2006.0   \n",
       "102                    NaN   0.0700       0.2650                NaN  2018.0   \n",
       "481                 0.5000      NaN          NaN              0.440  2016.0   \n",
       "486                    NaN   0.2700       0.6000                NaN  2016.0   \n",
       "394                    NaN      NaN          NaN                NaN  2015.0   \n",
       "631                    NaN      NaN       0.9900                NaN  2018.0   \n",
       "37                     NaN   0.4300       0.3200                NaN  2006.0   \n",
       "26                     NaN   0.5000       0.3500                NaN  2002.0   \n",
       "23                     NaN   0.1200       0.4300              0.250  2004.0   \n",
       "706                    NaN   0.5000       0.4500                NaN  2018.0   \n",
       "31                     NaN   0.3860       0.4360                NaN  2004.0   \n",
       "13                     NaN      NaN       0.2910              0.424  2004.0   \n",
       "27                     NaN      NaN       0.2460              0.013  2004.0   \n",
       "38                  0.1700   0.3250       0.3500                NaN  2006.0   \n",
       "18                  0.2250   0.2750       0.2250                NaN  2004.0   \n",
       "742                 0.1000   0.2250       0.1750              0.100  2018.0   \n",
       "30                  0.5844   0.2028          NaN                NaN  2008.0   \n",
       "3                      NaN      NaN          NaN                NaN  2000.0   \n",
       "123                    NaN      NaN          NaN                NaN     NaN   \n",
       "280                 0.1905   0.2381          NaN                NaN  2016.0   \n",
       "547                 0.3000   0.2500       0.1700                NaN  2016.0   \n",
       "115                 0.2000   0.4000       0.2000                NaN  2004.0   \n",
       "193                    NaN      NaN          NaN                NaN  2003.0   \n",
       "566                 0.6500   0.2800          NaN                NaN  2016.0   \n",
       "162                 0.3500   0.5000          NaN                NaN  2006.0   \n",
       "\n",
       "         amendable  change_feq two_thirds_req  \n",
       "cdtfa_id                                       \n",
       "79            True         NaN           True  \n",
       "377           True         NaN           True  \n",
       "24            True         NaN           True  \n",
       "12            True         NaN            NaN  \n",
       "29            True         NaN           True  \n",
       "5              NaN         NaN            NaN  \n",
       "35             NaN         NaN            NaN  \n",
       "217           True        10.0            NaN  \n",
       "576           True         NaN            NaN  \n",
       "144            NaN         NaN            NaN  \n",
       "102           True         6.0           True  \n",
       "481           True         1.0            NaN  \n",
       "486           True         NaN           True  \n",
       "394            NaN         NaN            NaN  \n",
       "631           True         NaN           True  \n",
       "37            True         NaN           True  \n",
       "26            True         NaN            NaN  \n",
       "23            True        10.0            NaN  \n",
       "706           True         1.0            NaN  \n",
       "31            True        10.0            NaN  \n",
       "13            True        10.0           True  \n",
       "27            True         NaN            NaN  \n",
       "38            True         1.0           True  \n",
       "18            True         1.0           True  \n",
       "742           True         NaN            NaN  \n",
       "30            True        10.0            NaN  \n",
       "3              NaN         NaN            NaN  \n",
       "123            NaN         NaN            NaN  \n",
       "280            NaN         NaN            NaN  \n",
       "547           True         NaN           True  \n",
       "115           True         NaN            NaN  \n",
       "193           True         1.0            NaN  \n",
       "566           True         1.0           True  \n",
       "162           True         1.0            NaN  "
      ]
     },
     "execution_count": 20,
     "metadata": {},
     "output_type": "execute_result"
    }
   ],
   "source": [
    "measures"
   ]
  },
  {
   "cell_type": "code",
   "execution_count": 21,
   "metadata": {},
   "outputs": [],
   "source": [
    "all_funding_19['Farebox Recovery'] = all_funding_19['Total Operating Expenses_ Actual_Operating Expenses'] / all_funding_19['Passenger Fares_ Actual_Operating Revenues']"
   ]
  },
  {
   "cell_type": "code",
   "execution_count": 22,
   "metadata": {},
   "outputs": [],
   "source": [
    "all_funding_19['LOST Percentage'] = all_funding_19['Total Operating Expenses_ Actual_Operating Expenses'] / all_funding_19['LOST Transit All']"
   ]
  },
  {
   "cell_type": "code",
   "execution_count": 23,
   "metadata": {},
   "outputs": [
    {
     "data": {
      "text/plain": [
       "<AxesSubplot:xlabel='county_name'>"
      ]
     },
     "execution_count": 23,
     "metadata": {},
     "output_type": "execute_result"
    },
    {
     "data": {
      "image/png": "[encoded data removed]",
      "text/plain": [
       "<Figure size 432x288 with 1 Axes>"
      ]
     },
     "metadata": {
      "needs_background": "light"
     },
     "output_type": "display_data"
    }
   ],
   "source": [
    "all_funding_19['Farebox Recovery'].plot(kind='bar')"
   ]
  },
  {
   "cell_type": "code",
   "execution_count": 24,
   "metadata": {},
   "outputs": [
    {
     "data": {
      "text/plain": [
       "<AxesSubplot:xlabel='county_name'>"
      ]
     },
     "execution_count": 24,
     "metadata": {},
     "output_type": "execute_result"
    },
    {
     "data": {
      "image/png": "[encoded data removed]",
      "text/plain": [
       "<Figure size 432x288 with 1 Axes>"
      ]
     },
     "metadata": {
      "needs_background": "light"
     },
     "output_type": "display_data"
    }
   ],
   "source": [
    "all_funding_19['LOST Percentage'].plot(kind='bar')"
   ]
  },
  {
   "cell_type": "code",
   "execution_count": null,
   "metadata": {},
   "outputs": [],
   "source": []
  }
 ],
 "metadata": {
  "kernelspec": {
   "display_name": "Python 3",
   "language": "python",
   "name": "python3"
  },
  "language_info": {
   "codemirror_mode": {
    "name": "ipython",
    "version": 3
   },
   "file_extension": ".py",
   "mimetype": "text/x-python",
   "name": "python",
   "nbconvert_exporter": "python",
   "pygments_lexer": "ipython3",
   "version": "3.9.1"
  }
 },
 "nbformat": 4,
 "nbformat_minor": 4
}
