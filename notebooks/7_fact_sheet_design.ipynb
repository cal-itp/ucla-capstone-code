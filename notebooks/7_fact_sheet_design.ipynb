{
 "cells": [
  {
   "cell_type": "markdown",
   "id": "regulation-undergraduate",
   "metadata": {},
   "source": [
    "## Los Angeles County"
   ]
  },
  {
   "cell_type": "markdown",
   "id": "stainless-hearts",
   "metadata": {},
   "source": [
    "### LOST Measures\n",
    "* Prop A (year/rate/etc for each)\n",
    "* Prop C\n",
    "* Measure R\n",
    "* Measure M"
   ]
  },
  {
   "cell_type": "markdown",
   "id": "remarkable-letter",
   "metadata": {},
   "source": [
    "_chart of funding split across all measures_"
   ]
  },
  {
   "cell_type": "markdown",
   "id": "favorite-linux",
   "metadata": {},
   "source": [
    "### Transit Operators\n",
    "* LA Metro\n",
    "* Foothill Transit\n",
    "* Santa Monica Big Blue Bus\n",
    "* Culver City Bus\n",
    "* Torrance Transit"
   ]
  },
  {
   "cell_type": "markdown",
   "id": "assured-insider",
   "metadata": {},
   "source": [
    "_chart of transit funding sources across all operators_"
   ]
  },
  {
   "cell_type": "markdown",
   "id": "painted-paste",
   "metadata": {},
   "source": [
    "_statistics about transit ridership, rider demographics..._"
   ]
  },
  {
   "cell_type": "markdown",
   "id": "brief-yukon",
   "metadata": {},
   "source": [
    "### Narrative/Passenger Fares and TDA?\n",
    "(our estimate of countywide farebox requirement, LOST operations resources?)"
   ]
  }
 ],
 "metadata": {
  "kernelspec": {
   "display_name": "Python 3",
   "language": "python",
   "name": "python3"
  },
  "language_info": {
   "codemirror_mode": {
    "name": "ipython",
    "version": 3
   },
   "file_extension": ".py",
   "mimetype": "text/x-python",
   "name": "python",
   "nbconvert_exporter": "python",
   "pygments_lexer": "ipython3",
   "version": "3.9.2"
  }
 },
 "nbformat": 4,
 "nbformat_minor": 5
}
